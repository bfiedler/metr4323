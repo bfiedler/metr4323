{
 "cells": [
  {
   "cell_type": "markdown",
   "metadata": {},
   "source": [
    "## One-dimensional diffusion equation\n",
    "\n",
    "v1.71, 14 February 2018, by Brian Fiedler \n",
    "\n",
    "tweeked 27 September 2023\n",
    "\n",
    "Demonstrates the numerical solution of the one-dimensional diffusion equation.\n",
    "\n",
    "The time required for the forecast to run is limited by the deliberate delay in the animation.  So the effectiveness using numpy arrays, rather than lists, is not obvious yet. In future notebooks, numpy arrays will be essential for the forecast to run quickly.  So take special note of the numpy forecast."
   ]
  },
  {
   "cell_type": "code",
   "execution_count": 1,
   "metadata": {},
   "outputs": [],
   "source": [
    "#import matplotlib\n",
    "#matplotlib.rcParams.update({'font.size': 22})\n",
    "from IPython.core.display import HTML\n",
    "from IPython.display import display,clear_output\n",
    "import time as Time\n",
    "import math\n",
    "import numpy as np\n",
    "import matplotlib.pyplot as plt\n",
    "%matplotlib inline\n",
    "import urllib.request"
   ]
  },
  {
   "cell_type": "code",
   "execution_count": 2,
   "metadata": {},
   "outputs": [
    {
     "data": {
      "text/html": [
       "<style>\n",
       "div.text_cell_render{\n",
       "    background-color: #efe;\n",
       "    }\n",
       ".rendered_html code {\n",
       "    background-color: #efe;\n",
       "    color: #900;\n",
       "}\n",
       ".rendered_html pre {\n",
       "    background-color: #efe;\n",
       "    color: #900;\n",
       "}\n",
       ".rendered_html hr {\n",
       "height:6px;\n",
       "border:none;\n",
       "background-color: #f00;\n",
       "} \n",
       ".rendered_html h2 {margin-left: 1em; color: purple;  text-align:left; padding-top: 0.5em; }\n",
       ".rendered_html h3 {margin-left: 2em; color: olive;  text-align:left; padding-top: 0.5em; }\n",
       ".rendered_html h4 {margin-left: 3em; color: teal;  text-align:left; padding-top: 0.5em; }\n",
       "</style>\n"
      ],
      "text/plain": [
       "<IPython.core.display.HTML object>"
      ]
     },
     "execution_count": 2,
     "metadata": {},
     "output_type": "execute_result"
    }
   ],
   "source": [
    "HTML(urllib.request.urlopen('http://metrprof.xyz/metr4323.css').read().decode())\n",
    "#HTML( open('metr4323.css').read() ) #or use this, if you have downloaded metr4233.css to your computer"
   ]
  },
  {
   "cell_type": "markdown",
   "metadata": {},
   "source": [
    "Check out the wikipedia: \n",
    "[Heat equation in one dimension](http://en.wikipedia.org/wiki/Heat_equation#Derivation_in_one_dimension) \n",
    "\n",
    "Let $u(x,t)$ be *temperature* and $q(x,t)$ be *heat flux density*.  You would probably be happier with $T$ as the symbol for temperature, but that's the way it goes...\n",
    "\n",
    "$$\n",
    "q = -k \\frac{ \\partial u}{ \\partial x}\n",
    "$$\n",
    "\n",
    "$$\n",
    "\\rho c_p \\frac{ \\partial u}{ \\partial t} = - \\frac{ \\partial q}{ \\partial x}\n",
    "$$\n",
    "\n",
    "If we let \n",
    "$$\n",
    "F \\equiv \\frac{q}{\\rho c_p}\n",
    "$$\n",
    "then $F$ will play the role of a *temperature flux density*. Our coupled PDEs now appear\n",
    "as:\n",
    "$$\n",
    "F = -\\frac{k}{\\rho c_p} \\frac{ \\partial u}{ \\partial x}\n",
    "$$\n",
    "\n",
    "$$\n",
    "\\frac{ \\partial u}{ \\partial t} = - \\frac{ \\partial F}{ \\partial x}\n",
    "$$\n",
    "\n",
    "And we can further tidy up the notation with:\n",
    "\n",
    "$$\n",
    "\\alpha  \\equiv \\frac{k}{\\rho c_p}\n",
    "$$\n",
    "\n",
    "We can combine the coupled first order equations to obtain the familiar one-dimensional diffusion equation:\n",
    "\n",
    "$$\n",
    "\\frac{ \\partial u}{ \\partial t} = \\alpha \\frac{\\partial^2 u} {\\partial x^2}\n",
    "$$\n"
   ]
  },
  {
   "cell_type": "markdown",
   "metadata": {},
   "source": [
    "<hr>\n",
    "Re-run the model from here"
   ]
  },
  {
   "cell_type": "code",
   "execution_count": 3,
   "metadata": {},
   "outputs": [],
   "source": [
    "# make the grid\n",
    "N = 101 # number of x grid points for u\n",
    "xmax = 20 # 0 <= x <= xmax\n",
    "dx = xmax/(N-1.) # grid width\n",
    "xu = [dx*i for i in range(N)] # grid for u\n",
    "xF = [.5*dx + dx*i for i in range(N-1)] # grid for F, between u"
   ]
  },
  {
   "cell_type": "code",
   "execution_count": 4,
   "metadata": {},
   "outputs": [],
   "source": [
    "# initialize u, F and alpha\n",
    "init = 'gauss'\n",
    "#init = 'square'\n",
    "#init = 'sines'\n",
    "#init = 'twodeltax'\n",
    "xc = xmax/2. # center of domain\n",
    "if init == 'gauss':\n",
    "    ui = [ math.exp( -(x-xc)**2 ) for x in xu ] # Gaussian for initial field of u\n",
    "elif init == 'square':\n",
    "    ui = [1 if abs(x-xc)<2.001 else 0 for x in xu] # square wave\n",
    "elif init == 'sines':\n",
    "    tp = 2*math.pi/xmax\n",
    "    ui = [.5+.25*math.sin(tp*x)+.25*math.sin(3*tp*x) for x in xu]\n",
    "else:\n",
    "    ui = [.5+.25*math.cos(tp*x)+.25*math.cos(51*tp*x) for x in xu] \n",
    "#    print(\"not implemented\")\n",
    "\n",
    "Fi = [0]*(N-1) # flux is set to zero, will be computed    \n"
   ]
  },
  {
   "cell_type": "code",
   "execution_count": 5,
   "metadata": {},
   "outputs": [
    {
     "data": {
      "text/plain": [
       "(0.0, 1.1)"
      ]
     },
     "execution_count": 5,
     "metadata": {},
     "output_type": "execute_result"
    },
    {
     "data": {
      "image/png": "[encoded data removed]",
      "text/plain": [
       "<Figure size 640x480 with 1 Axes>"
      ]
     },
     "metadata": {},
     "output_type": "display_data"
    }
   ],
   "source": [
    "# a quick look at ui\n",
    "plt.plot(xu,ui)\n",
    "plt.ylim((0,1.1))"
   ]
  },
  {
   "cell_type": "code",
   "execution_count": 6,
   "metadata": {},
   "outputs": [],
   "source": [
    "# set physical parameter:\n",
    "alpha=1. # diffusion coefficient\n",
    "\n",
    "# set some crunching parameters\n",
    "\n",
    "# choose one value for crunch:\n",
    "\n",
    "crunch='py'  # python lists\n",
    "#crunch='lc' # python list comprehensions\n",
    "#crunch = 'np' # python numpy arrays\n",
    "\n",
    "dt = .01 # try dt=.01, .0201, .022, .03\n",
    "tstop = 4. # stop when t>tstop\n",
    "dplot = .1 # time increment between plots"
   ]
  },
  {
   "cell_type": "code",
   "execution_count": 7,
   "metadata": {
    "scrolled": true
   },
   "outputs": [
    {
     "data": {
      "image/png": "[encoded data removed]",
      "text/plain": [
       "<Figure size 640x480 with 1 Axes>"
      ]
     },
     "metadata": {},
     "output_type": "display_data"
    }
   ],
   "source": [
    "# run the model forward in time\n",
    "# initialize fields:\n",
    "if crunch == 'np':\n",
    "    u = np.array(ui) # a numpy array\n",
    "    F = np.array(Fi) \n",
    "    dudt = np.zeros(N)\n",
    "else:\n",
    "    u = ui[:] # this slice copies the entire list\n",
    "    F = Fi[:] \n",
    "    dudt = [0.]*N  # list of N zeros\n",
    "    \n",
    "t = 0. # initial value for t    \n",
    "tplot = 0. # time t for next plot\n",
    "\n",
    "f, ax = plt.subplots()\n",
    "display(f)\n",
    "\n",
    "while t < tstop + dt/2.:\n",
    "    \n",
    "    if tplot-dt/2.<t<tplot+dt/2.: #plot\n",
    "        Time.sleep(1./10.) #Slows down the computation\n",
    "        ax.clear()\n",
    "        ax.plot(xu,u)\n",
    "        ax.text(1,.9,crunch,fontsize=22)\n",
    "        ax.text(1,.5,'t={0:5.3f}'.format(t),fontsize=22)\n",
    "        clear_output(wait=True)\n",
    "        ax.set_xlabel('x')\n",
    "        ax.set_ylabel('u',rotation=0)\n",
    "        ax.set_ylim((-.2,1.2))\n",
    "        display(f)\n",
    "        tplot = t+dplot\n",
    "        if t < dt/2.: Time.sleep(2.)\n",
    "        if t > tstop: break\n",
    "            \n",
    "    # step fields forward in time with Euler method.  Nothing fancy!\n",
    "    if crunch=='py': # use python lists\n",
    "        for n in range(N-1):\n",
    "            F[n] = alpha*(u[n] - u[n+1])/dx\n",
    "        for n in range(N-2):\n",
    "            dudt[n+1] = (F[n] - F[n+1])/dx\n",
    "        for i in range(N):\n",
    "            u[i] = u[i] +dt*dudt[i] \n",
    "            \n",
    "    elif crunch=='lc': # use python lists, with  list comprehensions\n",
    "        F = [ alpha*(u[n] - u[n+1])/dx for n in range(N-1) ]\n",
    "        dudt = [0.]+ [ (F[n] - F[n+1])/dx for n in range(N-2) ] + [0.]\n",
    "        u = [ u[i] + dt* dudt[i] for i in range(N) ]\n",
    "        \n",
    "    elif crunch=='np': # use numpy arrays\n",
    "        F = alpha*( u[:-1] - u[1:] )/dx         \n",
    "        dudt[1:-1] = ( F[:-1] - F[1:] )/dx\n",
    "        u = u + dudt*dt \n",
    "        \n",
    "    t = t + dt\n",
    "    \n",
    "plt.close() "
   ]
  },
  {
   "cell_type": "code",
   "execution_count": 8,
   "metadata": {},
   "outputs": [
    {
     "name": "stdout",
     "output_type": "stream",
     "text": [
      "beta was: 0.9999999999999998\n"
     ]
    }
   ],
   "source": [
    "beta = 4*alpha*dt/(dx*dx)\n",
    "print('beta was:', beta )"
   ]
  },
  {
   "cell_type": "markdown",
   "metadata": {},
   "source": [
    "# A theory for the blow up \n",
    "\n",
    "With `N=101` and `dt=.03`, the solution eventually erupts into a growing \"2-Delta-X-wave\".  Clearly this is an error, an artifact of the numerical solution of the PDE. This happens when `dt` is too large. \n",
    "\n",
    "Note the  approximation we use:\n",
    "\n",
    "$$ \\frac{\\partial^2 u} {\\partial x^2}\n",
    "\\approx\n",
    "\\frac{1}{\\Delta x} \\left( \\frac{u_{n+1}-u_n}{\\Delta x} - \\frac{u_n-u_{n-1}}{\\Delta x} \\right)\n",
    " =\n",
    "\\frac{1}{\\Delta x ^2 }\\left( u_{n+1}-2 u_n + u_{n-1} \\right)\n",
    "$$\n",
    "\n",
    "Within even a smooth Gaussian there exists a small amplitude \"2-Delta-X-wave\".  The  \"2-Delta-X-wave\" does not need to exist in isolation for the following analysis to be applicable for the instability observed in our numerical solution.\n",
    "Consider a pure \"2-Delta-X-wave\", a \"saw tooth\":\n",
    "\n",
    "$$\n",
    "u_n(t) = B(t)(-1)^n\n",
    "$$\n",
    "\n",
    "The $(-1)^n$ factor makes $u_{n+1}=-u_n$ and $u_{n-1} = - u_n$.  So:\n",
    "\n",
    "$$\n",
    "\\frac{d u_n}{d t} = -\\frac{4\\alpha}{\\Delta x^2} u_n \n",
    "$$\n",
    "\n",
    "or\n",
    "\n",
    "$$\n",
    "\\frac{d B}{dt} = -\\frac{4\\alpha}{\\Delta x^2} B\n",
    "$$\n",
    "\n",
    "Writing $B_i=B(t_i)$, our first-order Euler scheme predicts:\n",
    "\n",
    "$$\n",
    "\\frac{B_{i+1}-B_i}{\\Delta t} = - \\frac{4\\alpha }{\\Delta x^2} B_i\n",
    "$$\n",
    "\n",
    "$$\n",
    "B_{i+1} = B_{i}\\left( 1- \\frac{4\\alpha~\\Delta t }{\\Delta x^2} \\right)\n",
    "$$\n",
    "\n",
    "Let's define:\n",
    "\n",
    "$$\n",
    "\\beta \\equiv \\frac{4\\alpha~\\Delta t }{\\Delta x^2} \\qquad r \\equiv (1 - \\beta)\n",
    "$$\n",
    "\n",
    "So the solution for the amplitude of the  \"2-Delta-x wave\" is\n",
    "\n",
    "$$\n",
    "B_{i} = r^i B_{0}\n",
    "$$\n",
    "\n",
    "\n",
    "For $\\beta>2$ we have $|r|>1$ which causes the \"2-Delta-X-wave\" to *grow* in amplitude with time.\n",
    "This is clearly uphysical: a  \"2-Delta-X-wave\" is supposed to rapidly diffuse away.  The problem is the scheme is trying to\n",
    "diffuse it way *too* rapidly, causing the decay to overshoot $u_n$ to a value of the opposite sign.\n",
    "\n",
    "Is this analysis relevant to something other than a 2-Delta-x wave?  Some of you know about [the superposition principle](http://www.acs.psu.edu/drussell/Demos/superposition/superposition.html).  The fundamental principle to remember is that lurking inside of any smoothly varying function in our models is at least some small-amplitude, short-wavelength (high-frequency) component.  In this diffusion calculation, the short-wavelength component is the most difficult to keep stable."
   ]
  },
  {
   "cell_type": "markdown",
   "metadata": {},
   "source": [
    "# Student Tasks\n",
    "\n",
    "\n",
    "## 1.   annotation\n",
    "Add an annotation to the plots to show $\\beta$. Try some experiments with various $\\alpha$, $\\Delta x$ and $\\Delta t$. Does $\\beta>2$ provide good guidance about simulations that will \"blow up\". Complete the following table with \n",
    "more experiments.  (I am not sure this table is correct).\n",
    "\n",
    "\n",
    "| init | &#120572; | $\\Delta$ t | $\\Delta x$ |$\\beta$ | r | Blow up? |\n",
    "|--- |---| --- | --- | --- | --- |--- |\n",
    "| gauss | 1| .01 | .2 | 1 | 0 | No |\n",
    "| gauss | 1| .02 | .2 | 2 | -1 | No|\n",
    "| gauss | 1| .03 | .2 | 3 | -2 | Yes|\n",
    "| gauss | 3| .01 | .2 | 3 | -2|  Yes |\n",
    "| gauss | 3| .0025 ??| .2 ?? | .75 ??| .25 | No |\n",
    "\n",
    "\n",
    "\n",
    "## 2. crunching alternative\n",
    "Add another number crunching alternative that uses `numpy` arrays, `crunch='np2'`, which solves for $u$ without the intermediate calculation of $F$:\n",
    "\n",
    "$$ \n",
    "u_n(t+\\Delta t) = u_n(t) + \\Delta t \\frac{\\alpha}{\\Delta x ^2 }\\left( u_{n+1}-2 u_n + u_{n-1} \\right)\n",
    "$$"
   ]
  },
  {
   "cell_type": "code",
   "execution_count": null,
   "metadata": {},
   "outputs": [],
   "source": []
  }
 ],
 "metadata": {
  "anaconda-cloud": {
   "environment": null
  },
  "kernelspec": {
   "display_name": "Python 3 (ipykernel)",
   "language": "python",
   "name": "python3"
  },
  "language_info": {
   "codemirror_mode": {
    "name": "ipython",
    "version": 3
   },
   "file_extension": ".py",
   "mimetype": "text/x-python",
   "name": "python",
   "nbconvert_exporter": "python",
   "pygments_lexer": "ipython3",
   "version": "3.9.17"
  }
 },
 "nbformat": 4,
 "nbformat_minor": 1
}
