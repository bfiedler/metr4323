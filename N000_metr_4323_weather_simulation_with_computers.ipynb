{
 "cells": [
  {
   "cell_type": "markdown",
   "metadata": {},
   "source": [
    "# METR 4323: Weather Simulation with Computers\n",
    "\n",
    "A course in the School of Meteorology at the University of Oklahoma\n",
    "\n",
    "Prof. Brian Fiedler\n",
    "metrprof@gmail.com\n",
    "\n",
    "v1.1 10 July 2018\n",
    "\n",
    "tweeked September 2023\n",
    "\n",
    "Although this is an ipython notebook, the intent is to use it solely for documentation for the course. There is no Python to execute. No need to download it.  Just view it right here.\n",
    "\n",
    "The important ipython notebooks to download are in the last section.\n",
    "\n",
    "The official class website (for due dates, the posting of grades, official syllabus) is at http://canvas.ou.edu"
   ]
  },
  {
   "cell_type": "markdown",
   "metadata": {},
   "source": [
    "## Installing Anaconda Python for Jupyter Notebooks\n",
    "\n",
    "You will need your own installation of [Anaconda Python 3](https://www.continuum.io/downloads).  Most likely you want 64-bit, unless your computer is ancient.\n",
    "\n",
    "In METR 4323, we will use python via a [jupyter notebook](http://jupyter.org). (You are looking at such a notebook now)\n",
    "\n",
    "At that site, you are welcome to click \"Try it in your browser\", and then \"Welcome_to_Python.ipynb\".\n",
    "\n",
    "Here is a  [video introduction to jupyter notebooks](https://youtu.be/e9cSF3eVQv0).  You just need\n",
    "to type `jupyter notebook` on the command line of your Windows|OSX|Linux computer, and the jupyter notebook opens in *your browser*.  That's right: the app that you use for web surfing will be your development environment for python.\n",
    "\n",
    "Note the terminology [jupyter versus ipython](https://ipython.org/notebook.html).  Here we learn that \"jupyter\" is the [language-agnostic part](https://ipython.org/) of the notebook, which can be used for several languages.\n",
    "So, more accurately, we may say METR 4323 uses [ipython](http://ipython.org/) as the kernel in jupyter."
   ]
  },
  {
   "cell_type": "markdown",
   "metadata": {
    "jp-MarkdownHeadingCollapsed": true
   },
   "source": [
    "## Jupyter/Ipython warm up\n",
    "\n",
    "Here is a notebook on the level of my \"freshman\" Python course: \n",
    "[ScrabbleWords.ipynb](https://github.com/bfiedler/metr4323/blob/main/ScrabbleWords.ipynb).  \n",
    "**Click on \"Download\" and save it to your computer.**\n",
    "You may want to save it in a directory/folder named `notebooks`, or something like that. \n",
    "\n",
    "\n",
    "Then, from your [Jupyter dashboard](https://youtu.be/e9cSF3eVQv0?t=5m0), open `ScrabbleWords.ipynb`.\n",
    "\n",
    "I make no claim that `ScrabbleWords.ipynb` is the ideal place to start for you.  \n",
    "You may want to investigate [A gallery of interesting IPython Notebooks](https://github.com/ipython/ipython/wiki/A-gallery-of-interesting-IPython-Notebooks).\n",
    "\n",
    "You may also find my [Matplotlib1.ipynb](https://github.com/bfiedler/metr4323/blob/main/Matplotlib1.ipynb) useful.\n",
    "\n",
    "Students in a previous semester enjoyed my [N005_CollatzConjecture](https://github.com/bfiedler/metr4323/blob/main/N005_CollatzConjecture.ipynb)\n"
   ]
  },
  {
   "cell_type": "markdown",
   "metadata": {},
   "source": [
    "## The course notebooks"
   ]
  },
  {
   "cell_type": "markdown",
   "metadata": {},
   "source": [
    "No summaries are provided here (yet). \n",
    "[The github repo](https://github.com/bfiedler/metr4323/)\n",
    "\n",
    "Just click on a N*** file to see a preview,  and download.\n"
   ]
  },
  {
   "cell_type": "markdown",
   "metadata": {},
   "source": [
    "\n",
    " \n",
    "N140 is not formally a part of METR 4323, this notebook shows how to do publishable fluid-dynamics research with an ipython notebook.\n"
   ]
  },
  {
   "cell_type": "code",
   "execution_count": null,
   "metadata": {},
   "outputs": [],
   "source": []
  }
 ],
 "metadata": {
  "anaconda-cloud": {
   "environment": null,
   "summary": "Notebooks for METR 4323 at the University of Oklahoma",
   "url": "https://anaconda.org/bfiedler/n000_metr_4323_weather_simulation_with_computers"
  },
  "kernelspec": {
   "display_name": "Python 3 (ipykernel)",
   "language": "python",
   "name": "python3"
  },
  "language_info": {
   "codemirror_mode": {
    "name": "ipython",
    "version": 3
   },
   "file_extension": ".py",
   "mimetype": "text/x-python",
   "name": "python",
   "nbconvert_exporter": "python",
   "pygments_lexer": "ipython3",
   "version": "3.11.7"
  }
 },
 "nbformat": 4,
 "nbformat_minor": 4
}
