{
 "cells": [
  {
   "cell_type": "markdown",
   "metadata": {
    "jp-MarkdownHeadingCollapsed": true
   },
   "source": [
    "# METR 4323: Weather Simulation with Computers\n",
    "\n",
    "A course in the School of Meteorology at the University of Oklahoma\n",
    "\n",
    "Prof. Brian Fiedler\n",
    "metrprof@gmail.com\n",
    "\n",
    "v1.1 10 July 2018\n",
    "\n",
    "tweeked September 2023\n",
    "\n",
    "Although this is an ipython notebook, the intent is to use it solely for documentation for the course. There is no Python to execute. No need to download it.  Just view it right here.\n",
    "\n",
    "The important ipython notebooks to download are in the last section.\n",
    "\n",
    "The official class website (for due dates, the posting of grades, official syllabus) is at http://canvas.ou.edu"
   ]
  },
  {
   "cell_type": "markdown",
   "metadata": {},
   "source": [
    "## Installing Anaconda Python for Jupyter Notebooks\n",
    "\n",
    "You will need your own installation of [Anaconda Python 3](https://www.continuum.io/downloads).  Most likely you want 64-bit, unless your computer is ancient.\n",
    "\n",
    "In METR 4323, we will use python via a [jupyter notebook](http://jupyter.org). (You are looking at such a notebook now)\n",
    "\n",
    "At that site, you are welcome to click \"Try it in your browser\", and then \"Welcome_to_Python.ipynb\".\n",
    "\n",
    "Here is a  [video introduction to jupyter notebooks](https://youtu.be/e9cSF3eVQv0).  You just need\n",
    "to type `jupyter notebook` on the command line of your Windows|OSX|Linux computer, and the jupyter notebook opens in *your browser*.  That's right: the app that you use for web surfing will be your development environment for python.\n",
    "\n",
    "Note the terminology [jupyter versus ipython](https://ipython.org/notebook.html).  Here we learn that \"jupyter\" is the [language-agnostic part](https://ipython.org/) of the notebook, which can be used for several languages.\n",
    "So, more accurately, we may say METR 4323 uses [ipython](http://ipython.org/) as the kernel in jupyter."
   ]
  },
  {
   "cell_type": "markdown",
   "metadata": {},
   "source": [
    "## Jupyter/Ipython warm up\n",
    "\n",
    "Here is a notebook on the level of my \"freshman\" Python course: \n",
    "[ScrabbleWords.ipynb](https://anaconda.org/bfiedler/scrabblewords).  \n",
    "**Click on \"Download\" and save it to your computer.**\n",
    "You may want to save it in a directory/folder named `notebooks`, or something like that. \n",
    "\n",
    "\n",
    "Then, from your [Jupyter dashboard](https://youtu.be/e9cSF3eVQv0?t=5m0), open `ScrabbleWords.ipynb`.\n",
    "\n",
    "I make no claim that `ScrabbleWords.ipynb` is the ideal place to start for you.  \n",
    "You may want to investigate [A gallery of interesting IPython Notebooks](https://github.com/ipython/ipython/wiki/A-gallery-of-interesting-IPython-Notebooks).\n",
    "\n",
    "You may also find my [matplotlib1.ipynb](https://anaconda.org/bfiedler/matplotlib1/notebook) useful.\n",
    "\n",
    "Students in a previous semester enjoyed my [N005_CollatzConjecture](https://anaconda.org/bfiedler/n005_collatzconjecture)\n"
   ]
  },
  {
   "cell_type": "markdown",
   "metadata": {},
   "source": [
    "## The course notebooks"
   ]
  },
  {
   "cell_type": "markdown",
   "metadata": {},
   "source": [
    "No summaries are provided here (yet). Just click on a link to get the html preview at anaconda.org. The html rendering may take a few seconds, perhaps because of the LaTeX equations.\n",
    "\n",
    "**If you want to download and run the notebook, be sure to click the Download tab.  The Download tab is just above and to the right of the html preview.**\n",
    "\n"
   ]
  },
  {
   "cell_type": "markdown",
   "metadata": {},
   "source": [
    "\n",
    " * [N005_CollatzConjecture](https://anaconda.org/bfiedler/n005_collatzconjecture)\n",
    " * [N010_JuliaSetFractals.ipynb](https://anaconda.org/bfiedler/n010_juliasetfractals)                       \n",
    " * [N020_ConwayGameOfLife.ipynb](https://anaconda.org/bfiedler/n020_conwaygameoflife)                 \n",
    " * [N030_CoupledODE.ipynb](https://anaconda.org/bfiedler/n030_coupledode)                                \n",
    " * [N040_DiffusionPDE1D.ipynb](https://anaconda.org/bfiedler/n040_diffusionpde1d)                             \n",
    " * [N050_AdvectionPDE1D.ipynb](https://anaconda.org/bfiedler/n050_advectionpde1d)                             \n",
    " * [N060_SympySchemes.ipynb](https://anaconda.org/bfiedler/n060_sympyschemes)                              \n",
    " * [N070_ShallowWater1D.ipynb](https://anaconda.org/bfiedler/n070_shallowwater1d)\n",
    " * [N080_ShallowWater2D.ipynb](https://anaconda.org/bfiedler/n080_shallowwater2d)\n",
    " * [N090_StreamfunctionVorticity2D.ipynb](https://anaconda.org/bfiedler/n090_streamfunctionvorticity2d)\n",
    " * [N100_PressureSolver2D.ipynb](https://anaconda.org/bfiedler/n100_pressuresolver2d)\n",
    " * [N110_Hydrostatic_vs_Nonhydrostatic2D.ipynb](https://anaconda.org/bfiedler/n110_hydrostatic_vs_nonhydrostatic2d)\n",
    " * [N120_BaroclinicInstability3D.ipynb](https://anaconda.org/bfiedler/n120_baroclinicinstability3d)\n",
    " * [N130_PetTornado3D.ipynb](https://anaconda.org/bfiedler/n130_pettornado3d)\n",
    " * [N140_Convection3D.ipynb](https://anaconda.org/bfiedler/n140_convection3d) Though not formally a part of METR 4323, this notebook shows how to do publishable fluid-dynamics research with an ipython notebook.\n"
   ]
  },
  {
   "cell_type": "code",
   "execution_count": 1,
   "metadata": {},
   "outputs": [
    {
     "data": {
      "text/html": [
       "<style>\n",
       "div.text_cell_render{\n",
       "    background-color: #efe;\n",
       "    }\n",
       ".rendered_html code {\n",
       "    background-color: #efe;\n",
       "    color: #900;\n",
       "}\n",
       ".rendered_html pre {\n",
       "    background-color: #efe;\n",
       "    color: #900;\n",
       "}\n",
       ".rendered_html hr {\n",
       "height:6px;\n",
       "border:none;\n",
       "background-color: #f00;\n",
       "} \n",
       ".rendered_html h2 {margin-left: 1em; color: purple;  text-align:left; padding-top: 0.5em; }\n",
       ".rendered_html h3 {margin-left: 2em; color: olive;  text-align:left; padding-top: 0.5em; }\n",
       ".rendered_html h4 {margin-left: 3em; color: teal;  text-align:left; padding-top: 0.5em; }\n",
       "</style>\n"
      ],
      "text/plain": [
       "<IPython.core.display.HTML object>"
      ]
     },
     "execution_count": 1,
     "metadata": {},
     "output_type": "execute_result"
    }
   ],
   "source": [
    "import urllib.request\n",
    "from IPython.core.display import HTML\n",
    "HTML(urllib.request.urlopen('http://metrprof.xyz/metr4323.css').read().decode())\n",
    "#HTML( open('metr4323.css').read() ) #or use this, if you have downloaded metr4233.css to your computer"
   ]
  }
 ],
 "metadata": {
  "anaconda-cloud": {
   "environment": null,
   "summary": "Notebooks for METR 4323 at the University of Oklahoma",
   "url": "https://anaconda.org/bfiedler/n000_metr_4323_weather_simulation_with_computers"
  },
  "kernelspec": {
   "display_name": "Python 3 (ipykernel)",
   "language": "python",
   "name": "python3"
  },
  "language_info": {
   "codemirror_mode": {
    "name": "ipython",
    "version": 3
   },
   "file_extension": ".py",
   "mimetype": "text/x-python",
   "name": "python",
   "nbconvert_exporter": "python",
   "pygments_lexer": "ipython3",
   "version": "3.9.17"
  }
 },
 "nbformat": 4,
 "nbformat_minor": 4
}
