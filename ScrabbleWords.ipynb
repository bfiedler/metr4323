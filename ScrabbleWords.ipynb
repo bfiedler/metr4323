{
 "cells": [
  {
   "cell_type": "markdown",
   "metadata": {},
   "source": [
    "## Some practice with a data file and Python lists, dictionaries and sets\n",
    "\n",
    "v2.03, 10 October 2017, Brian Fiedler\n",
    "\n",
    "If you are viewing this ipython notebook at https://anaconda.org/bfiedler and you want to run it, be sure to download it by clicking on the *Download* tab that you see to the right, immediately above this notebook.\n",
    "\n",
    "Googling \"scrabble word list text file\" lead me to this unofficial [github file of valid scrabble words](https://github.com/jonbcard/scrabble-bot/raw/master/src/dictionary.txt). All the words come to you capitalized, so they appear as they would using [Scrabble](https://en.wikipedia.org/wiki/Scrabble) tiles.  None of the words are longer than 15 letters. Proper nouns are not allowed in Scrabble. So the uncapitalized words should be valid spellings. For example, you will not find OKLAHOMA in the list. \n",
    "\n",
    "Note the call to **HTML** in a cell below, to modify [notebook style](http://nbviewer.ipython.org/github/ketch/teaching-numerics-with-notebooks/blob/master/Styling_notebooks.ipynb). It is optional to include such style modification in a notebook.  I like the light green background in the markdown cells.\n",
    "\n",
    "By the way, a perhaps simpler presentation of these concepts can be found in my \"trinkets\".\n",
    "But be patient when you click on these links. You may need about ten seconds before the tab can be accessed. These short programs download and run in your browser:\n",
    "\n",
    "https://trinket.io/python/56a03639a8\n",
    "\n",
    "https://trinket.io/python/aba77ec73a\n",
    "\n",
    "https://trinket.io/python/b6f72c97fe\n",
    "\n",
    "https://trinket.io/python/3fc8f9b55e\n",
    "\n",
    "https://trinket.io/python/28381dc6ef"
   ]
  },
  {
   "cell_type": "code",
   "execution_count": 1,
   "metadata": {
    "collapsed": false,
    "jupyter": {
     "outputs_hidden": false
    }
   },
   "outputs": [
    {
     "data": {
      "text/html": [
       "\n",
       "<style>\n",
       "div.text_cell_render{\n",
       "    background-color: #efe;\n",
       "    }\n",
       ".rendered_html code {\n",
       "    background-color: #efe;\n",
       "    color: #900;\n",
       "    }\n",
       ".rendered_html pre {\n",
       "    background-color: #efe;\n",
       "    color: #900;\n",
       "}\n",
       "\n",
       "</style>\n"
      ],
      "text/plain": [
       "<IPython.core.display.HTML object>"
      ]
     },
     "execution_count": 1,
     "metadata": {},
     "output_type": "execute_result"
    }
   ],
   "source": [
    "from IPython.core.display import HTML\n",
    "\n",
    "# maybe a better way to modify style is to save the text into a file, such as my_css.css. Then uncomment:\n",
    "#HTML( open('./my_css.css').read() )\n",
    "\n",
    "HTML(\"\"\"\n",
    "<style>\n",
    "div.text_cell_render{\n",
    "    background-color: #efe;\n",
    "    }\n",
    ".rendered_html code {\n",
    "    background-color: #efe;\n",
    "    color: #900;\n",
    "    }\n",
    ".rendered_html pre {\n",
    "    background-color: #efe;\n",
    "    color: #900;\n",
    "}\n",
    "\n",
    "</style>\n",
    "\"\"\")"
   ]
  },
  {
   "cell_type": "code",
   "execution_count": 2,
   "metadata": {
    "collapsed": false,
    "jupyter": {
     "outputs_hidden": false
    }
   },
   "outputs": [
    {
     "name": "stdout",
     "output_type": "stream",
     "text": [
      "you may want to save github_scrabble.txt from the URL, and save it to your computer\n"
     ]
    }
   ],
   "source": [
    "import urllib.request \n",
    "try:\n",
    "    filehandle = open('github_scrabble.txt','r') # 'r' means read only. That's the default so it can be omitted.\n",
    "except:\n",
    "    url = \"https://github.com/jonbcard/scrabble-bot/raw/master/src/dictionary.txt\"\n",
    "    filehandle = urllib.request.urlopen(url)\n",
    "    print(\"you may want to save github_scrabble.txt from the URL, and save it to your computer\")\n",
    "lines = filehandle.readlines()"
   ]
  },
  {
   "cell_type": "code",
   "execution_count": 3,
   "metadata": {
    "collapsed": false,
    "jupyter": {
     "outputs_hidden": false
    }
   },
   "outputs": [
    {
     "name": "stdout",
     "output_type": "stream",
     "text": [
      "You apparently loaded the scrabble words\n"
     ]
    }
   ],
   "source": [
    "if len(lines) > 10000:\n",
    "    print(\"You apparently loaded the scrabble words\")\n",
    "else:\n",
    "    print(\"something failed:\", len(lines))"
   ]
  },
  {
   "cell_type": "code",
   "execution_count": 4,
   "metadata": {
    "collapsed": false,
    "jupyter": {
     "outputs_hidden": false
    }
   },
   "outputs": [
    {
     "data": {
      "text/plain": [
       "b'IMPLACABILITY\\n'"
      ]
     },
     "execution_count": 4,
     "metadata": {},
     "output_type": "execute_result"
    }
   ],
   "source": [
    "lines[75691] # item at index 75691"
   ]
  },
  {
   "cell_type": "code",
   "execution_count": 5,
   "metadata": {
    "collapsed": false,
    "jupyter": {
     "outputs_hidden": false
    }
   },
   "outputs": [
    {
     "data": {
      "text/plain": [
       "[b'IMPISHNESS\\n', b'IMPISHNESSES\\n', b'IMPLACABILITIES\\n', b'IMPLACABILITY\\n']"
      ]
     },
     "execution_count": 5,
     "metadata": {},
     "output_type": "execute_result"
    }
   ],
   "source": [
    "lines[75688:75692] # A slice of the list. Up to, but NOT including, the index to the right of the :"
   ]
  },
  {
   "cell_type": "code",
   "execution_count": 6,
   "metadata": {
    "collapsed": false,
    "jupyter": {
     "outputs_hidden": false
    }
   },
   "outputs": [
    {
     "data": {
      "text/plain": [
       "[b'ZYMOSAN\\n',\n",
       " b'ZYMOSANS\\n',\n",
       " b'ZYMOSES\\n',\n",
       " b'ZYMOSIS\\n',\n",
       " b'ZYMOTIC\\n',\n",
       " b'ZYMURGIES\\n',\n",
       " b'ZYMURGY\\n',\n",
       " b'ZYZZYVA\\n',\n",
       " b'ZYZZYVAS\\n',\n",
       " b'ZZZ']"
      ]
     },
     "execution_count": 6,
     "metadata": {},
     "output_type": "execute_result"
    }
   ],
   "source": [
    "lines[-10:]"
   ]
  },
  {
   "cell_type": "markdown",
   "metadata": {},
   "source": [
    "## Clean the data\n",
    "Note that every item (but the last) in the list `lines` has a newline character, the `\\n`, at the end of the string. And the data items are not true stings yet, but bytes. We need to remove that newline character from all the items. Also, there are a few blank lines at the end."
   ]
  },
  {
   "cell_type": "code",
   "execution_count": 7,
   "metadata": {
    "collapsed": false,
    "jupyter": {
     "outputs_hidden": false
    }
   },
   "outputs": [
    {
     "data": {
      "text/plain": [
       "['ZYMOSAN',\n",
       " 'ZYMOSANS',\n",
       " 'ZYMOSES',\n",
       " 'ZYMOSIS',\n",
       " 'ZYMOTIC',\n",
       " 'ZYMURGIES',\n",
       " 'ZYMURGY',\n",
       " 'ZYZZYVA',\n",
       " 'ZYZZYVAS',\n",
       " 'ZZZ']"
      ]
     },
     "execution_count": 7,
     "metadata": {},
     "output_type": "execute_result"
    }
   ],
   "source": [
    "words=[] #initialize an empty list\n",
    "for line in lines:\n",
    "    word = line.rstrip().decode()\n",
    "    if len(word)>0: words.append(word) \n",
    "        \n",
    "words[-10:] # slice from 10 items from the end, to the end"
   ]
  },
  {
   "cell_type": "markdown",
   "metadata": {},
   "source": [
    "## Slicing sequences\n",
    "*strings* and *lists* are sequences, and both have the same **slice** syntax"
   ]
  },
  {
   "cell_type": "code",
   "execution_count": 8,
   "metadata": {
    "collapsed": false,
    "jupyter": {
     "outputs_hidden": false
    }
   },
   "outputs": [
    {
     "name": "stdout",
     "output_type": "stream",
     "text": [
      "ZYMURGIES\n",
      "R\n",
      "ZYMURGIE\n",
      "ZMRI\n",
      "ZYMURGIES\n",
      "SEIGRUMYZ\n"
     ]
    }
   ],
   "source": [
    "pickaword = words[-5] # pickaword is the 5th word from the end\n",
    "print( pickaword )\n",
    "print( pickaword[4] )\n",
    "print( pickaword[0:8] ) # up to, but NOT including 4\n",
    "print( pickaword[0:8:2] ) # stepping by 2\n",
    "print( pickaword[::] )\n",
    "print( pickaword[::-1] ) # step by -1, defaults to starting from end"
   ]
  },
  {
   "cell_type": "markdown",
   "metadata": {},
   "source": [
    "## Examine a word\n",
    "Let's pick a word and examine it for a property"
   ]
  },
  {
   "cell_type": "code",
   "execution_count": 9,
   "metadata": {
    "collapsed": false,
    "jupyter": {
     "outputs_hidden": false
    },
    "scrolled": true
   },
   "outputs": [
    {
     "name": "stdout",
     "output_type": "stream",
     "text": [
      "BUNCH\n",
      "HCNUB\n",
      "False\n"
     ]
    }
   ],
   "source": [
    "pickaword = words[19998]\n",
    "reverseit = pickaword[::-1] # Python's way of reversing a word\n",
    "print(pickaword)\n",
    "print(reverseit)\n",
    "isPalindrome = pickaword == reverseit\n",
    "print(isPalindrome)"
   ]
  },
  {
   "cell_type": "code",
   "execution_count": 10,
   "metadata": {
    "collapsed": false,
    "jupyter": {
     "outputs_hidden": false
    }
   },
   "outputs": [
    {
     "data": {
      "text/plain": [
       "True"
      ]
     },
     "execution_count": 10,
     "metadata": {},
     "output_type": "execute_result"
    }
   ],
   "source": [
    "'RADAR' in words"
   ]
  },
  {
   "cell_type": "markdown",
   "metadata": {},
   "source": [
    "### Palindromes\n",
    "So word 19998 is not equal to its reverse.  It is not a palindrome. But some words are:"
   ]
  },
  {
   "cell_type": "code",
   "execution_count": 11,
   "metadata": {
    "collapsed": false,
    "jupyter": {
     "outputs_hidden": false
    }
   },
   "outputs": [
    {
     "name": "stdout",
     "output_type": "stream",
     "text": [
      "AA AA\n",
      "ABA ABA\n",
      "ABBA ABBA\n",
      "AGA AGA\n",
      "AHA AHA\n",
      "ALA ALA\n",
      "ALULA ALULA\n",
      "AMA AMA\n",
      "ANA ANA\n",
      "ANNA ANNA\n",
      "AVA AVA\n",
      "AWA AWA\n",
      "BIB BIB\n",
      "BOB BOB\n",
      "BOOB BOOB\n",
      "BUB BUB\n",
      "CIVIC CIVIC\n",
      "DAD DAD\n",
      "DEED DEED\n",
      "DEIFIED DEIFIED\n",
      "DEKED DEKED\n",
      "DELED DELED\n",
      "DENNED DENNED\n",
      "DEWED DEWED\n",
      "DID DID\n",
      "DUD DUD\n",
      "EKE EKE\n",
      "EME EME\n",
      "ERE ERE\n",
      "EVE EVE\n",
      "EWE EWE\n",
      "EYE EYE\n",
      "GAG GAG\n",
      "GIG GIG\n",
      "HAH HAH\n",
      "HALALAH HALALAH\n",
      "HALLAH HALLAH\n",
      "HEH HEH\n",
      "HUH HUH\n",
      "KAIAK KAIAK\n",
      "KAYAK KAYAK\n",
      "KEEK KEEK\n",
      "KOOK KOOK\n",
      "LEVEL LEVEL\n",
      "MADAM MADAM\n",
      "MARRAM MARRAM\n",
      "MEM MEM\n",
      "MIM MIM\n",
      "MINIM MINIM\n",
      "MM MM\n",
      "MOM MOM\n",
      "MUM MUM\n",
      "NAAN NAAN\n",
      "NAN NAN\n",
      "NOON NOON\n",
      "NUN NUN\n",
      "OHO OHO\n",
      "ONO ONO\n",
      "OTTO OTTO\n",
      "OXO OXO\n",
      "PAP PAP\n",
      "PEEP PEEP\n",
      "PEP PEP\n",
      "PIP PIP\n",
      "POOP POOP\n",
      "POP POP\n",
      "PULLUP PULLUP\n",
      "PUP PUP\n",
      "RADAR RADAR\n",
      "REDDER REDDER\n",
      "REFER REFER\n",
      "REIFIER REIFIER\n",
      "REPAPER REPAPER\n",
      "REVIVER REVIVER\n",
      "ROTATOR ROTATOR\n",
      "ROTOR ROTOR\n",
      "SAGAS SAGAS\n",
      "SEES SEES\n",
      "SELLES SELLES\n",
      "SEMEMES SEMEMES\n",
      "SEMES SEMES\n",
      "SERES SERES\n",
      "SEXES SEXES\n",
      "SHAHS SHAHS\n",
      "SIS SIS\n",
      "SOLOS SOLOS\n",
      "SOS SOS\n",
      "STATS STATS\n",
      "STETS STETS\n",
      "STOTS STOTS\n",
      "SULUS SULUS\n",
      "TAT TAT\n",
      "TENET TENET\n",
      "TERRET TERRET\n",
      "TET TET\n",
      "TIT TIT\n",
      "TOOT TOOT\n",
      "TOROT TOROT\n",
      "TOT TOT\n",
      "TUT TUT\n",
      "ULU ULU\n",
      "VAV VAV\n",
      "WAW WAW\n",
      "WOW WOW\n",
      "YAY YAY\n",
      "ZUZ ZUZ\n",
      "ZZZ ZZZ\n",
      "found this many palindromes: 107\n"
     ]
    }
   ],
   "source": [
    "count=0\n",
    "for word in words:\n",
    "    reverseit = word[::-1]\n",
    "    if reverseit == word:\n",
    "        count += 1\n",
    "        print(word, reverseit)\n",
    "print(\"found this many palindromes:\",count)"
   ]
  },
  {
   "cell_type": "markdown",
   "metadata": {},
   "source": [
    "## A list comprehension for cleaning data\n",
    "Next we show the very useful *list comprehension* syntax of Python, where we put a little program inside the `[ ]`."
   ]
  },
  {
   "cell_type": "code",
   "execution_count": 12,
   "metadata": {
    "collapsed": false,
    "jupyter": {
     "outputs_hidden": false
    }
   },
   "outputs": [
    {
     "data": {
      "text/plain": [
       "['cat', 'dog']"
      ]
     },
     "execution_count": 12,
     "metadata": {},
     "output_type": "execute_result"
    }
   ],
   "source": [
    "shortlist = ['cat\\n','dog\\n']\n",
    "newlist = [x.rstrip() for x in shortlist]\n",
    "newlist"
   ]
  },
  {
   "cell_type": "markdown",
   "metadata": {},
   "source": [
    "## Confusion about the reserved word `in`\n",
    "Next we clear up a seemingly small issued that can perplex students. Python has two different uses for the reserved word `in`. The first use is to test for membership.  The second use is in a *for loop*.  The fact that `in` has two meanings seems consistent with the two uses in the English language.  But students can really become confused by it:"
   ]
  },
  {
   "cell_type": "code",
   "execution_count": 13,
   "metadata": {
    "collapsed": false,
    "jupyter": {
     "outputs_hidden": false
    }
   },
   "outputs": [
    {
     "data": {
      "text/plain": [
       "True"
      ]
     },
     "execution_count": 13,
     "metadata": {},
     "output_type": "execute_result"
    }
   ],
   "source": [
    "'cat' in newlist"
   ]
  },
  {
   "cell_type": "code",
   "execution_count": 14,
   "metadata": {
    "collapsed": false,
    "jupyter": {
     "outputs_hidden": false
    },
    "scrolled": true
   },
   "outputs": [
    {
     "name": "stdout",
     "output_type": "stream",
     "text": [
      "cat\n",
      "dog\n"
     ]
    }
   ],
   "source": [
    "for x in newlist:\n",
    "    print(x)"
   ]
  },
  {
   "cell_type": "markdown",
   "metadata": {},
   "source": [
    "### The 'ia' and 'ium' word pairs\n",
    "\n",
    "This was a task for year 2014 freshman students."
   ]
  },
  {
   "cell_type": "code",
   "execution_count": 15,
   "metadata": {
    "collapsed": false,
    "jupyter": {
     "outputs_hidden": false
    }
   },
   "outputs": [
    {
     "name": "stdout",
     "output_type": "stream",
     "text": [
      "ACTINIA ACTINIUM\n",
      "AECIA AECIUM\n",
      "AECIDIA AECIDIUM\n",
      "AEROBIA AEROBIUM\n",
      "ALLODIA ALLODIUM\n",
      "ALLUVIA ALLUVIUM\n",
      "ALODIA ALODIUM\n",
      "AMMONIA AMMONIUM\n",
      "ANAEROBIA ANAEROBIUM\n",
      "ANDROECIA ANDROECIUM\n",
      "ANTEPENDIA ANTEPENDIUM\n",
      "ANTHERIDIA ANTHERIDIUM\n",
      "ANTHODIA ANTHODIUM\n",
      "APOTHECIA APOTHECIUM\n",
      "APPRESSORIA APPRESSORIUM\n",
      "APTERIA APTERIUM\n",
      "AQUARIA AQUARIUM\n",
      "ARCHAEBACTERIA ARCHAEBACTERIUM\n",
      "ARCHEGONIA ARCHEGONIUM\n",
      "ARCHESPORIA ARCHESPORIUM\n",
      "ARMAMENTARIA ARMAMENTARIUM\n",
      "ASCIDIA ASCIDIUM\n",
      "ASCOGONIA ASCOGONIUM\n",
      "ATRIA ATRIUM\n",
      "AUDITORIA AUDITORIUM\n",
      "BACTERIA BACTERIUM\n",
      "BASIDIA BASIDIUM\n",
      "BIENNIA BIENNIUM\n",
      "BOTHRIA BOTHRIUM\n",
      "BRACHIA BRACHIUM\n",
      "BRONCHIA BRONCHIUM\n",
      "CAFETORIA CAFETORIUM\n",
      "CALDARIA CALDARIUM\n",
      "CALVARIA CALVARIUM\n",
      "CAMBIA CAMBIUM\n",
      "CARPOGONIA CARPOGONIUM\n",
      "CERIA CERIUM\n",
      "CHONDROCRANIA CHONDROCRANIUM\n",
      "CIBORIA CIBORIUM\n",
      "CILIA CILIUM\n",
      "CINERARIA CINERARIUM\n",
      "CLOSTRIDIA CLOSTRIDIUM\n",
      "COCCIDIA COCCIDIUM\n",
      "COLLEGIA COLLEGIUM\n",
      "COLLOQUIA COLLOQUIUM\n",
      "COLLUVIA COLLUVIUM\n",
      "COLLYRIA COLLYRIUM\n",
      "COLUMBARIA COLUMBARIUM\n",
      "COMPENDIA COMPENDIUM\n",
      "CONIDIA CONIDIUM\n",
      "CONSORTIA CONSORTIUM\n",
      "CONTAGIA CONTAGIUM\n",
      "COREMIA COREMIUM\n",
      "CORIA CORIUM\n",
      "CORYNEBACTERIA CORYNEBACTERIUM\n",
      "CRANIA CRANIUM\n",
      "CREMATORIA CREMATORIUM\n",
      "CRITERIA CRITERIUM\n",
      "CRYPTOSPORIDIA CRYPTOSPORIDIUM\n",
      "CTENIDIA CTENIDIUM\n",
      "CURIA CURIUM\n",
      "CYANOBACTERIA CYANOBACTERIUM\n",
      "CYMATIA CYMATIUM\n",
      "CYMBIDIA CYMBIDIUM\n",
      "DECENNIA DECENNIUM\n",
      "DELIRIA DELIRIUM\n",
      "DELPHINIA DELPHINIUM\n",
      "DENTALIA DENTALIUM\n",
      "DICHASIA DICHASIUM\n",
      "DILUVIA DILUVIUM\n",
      "DISEQUILIBRIA DISEQUILIBRIUM\n",
      "EFFLUVIA EFFLUVIUM\n",
      "ELUVIA ELUVIUM\n",
      "EMPORIA EMPORIUM\n",
      "ENCOMIA ENCOMIUM\n",
      "ENDOCARDIA ENDOCARDIUM\n",
      "ENDOMETRIA ENDOMETRIUM\n",
      "ENDOTHECIA ENDOTHECIUM\n",
      "ENDOTHELIA ENDOTHELIUM\n",
      "ENTEROBACTERIA ENTEROBACTERIUM\n",
      "EPICARDIA EPICARDIUM\n",
      "EPICEDIA EPICEDIUM\n",
      "EPICRANIA EPICRANIUM\n",
      "EPIMYSIA EPIMYSIUM\n",
      "EPINEURIA EPINEURIUM\n",
      "EPITHALAMIA EPITHALAMIUM\n",
      "EPITHELIA EPITHELIUM\n",
      "EQUILIBRIA EQUILIBRIUM\n",
      "EULOGIA EULOGIUM\n",
      "EXORDIA EXORDIUM\n",
      "EXOSPORIA EXOSPORIUM\n",
      "EXUVIA EXUVIUM\n",
      "FILOPODIA FILOPODIUM\n",
      "FLORILEGIA FLORILEGIUM\n",
      "FOLIA FOLIUM\n",
      "FUSARIA FUSARIUM\n",
      "GAMETANGIA GAMETANGIUM\n",
      "GELSEMIA GELSEMIUM\n",
      "GLOCHIDIA GLOCHIDIUM\n",
      "GONIA GONIUM\n",
      "GONIDIA GONIDIUM\n",
      "GYMNASIA GYMNASIUM\n",
      "GYNAECIA GYNAECIUM\n",
      "GYNECIA GYNECIUM\n",
      "GYNOECIA GYNOECIUM\n",
      "HAUSTORIA HAUSTORIUM\n",
      "HERBARIA HERBARIUM\n",
      "HESPERIDIA HESPERIDIUM\n",
      "HONORARIA HONORARIUM\n",
      "HORMOGONIA HORMOGONIUM\n",
      "HOSPITIA HOSPITIUM\n",
      "HYMENIA HYMENIUM\n",
      "HYPANTHIA HYPANTHIUM\n",
      "ILIA ILIUM\n",
      "ILLUVIA ILLUVIUM\n",
      "IMPERIA IMPERIUM\n",
      "INDICIA INDICIUM\n",
      "INDUSIA INDUSIUM\n",
      "ISCHIA ISCHIUM\n",
      "LABIA LABIUM\n",
      "LATIFUNDIA LATIFUNDIUM\n",
      "LEPROSARIA LEPROSARIUM\n",
      "LITHIA LITHIUM\n",
      "LIXIVIA LIXIVIUM\n",
      "MAGNESIA MAGNESIUM\n",
      "MANUBRIA MANUBRIUM\n",
      "MARSUPIA MARSUPIUM\n",
      "MAZAEDIA MAZAEDIUM\n",
      "MEDIA MEDIUM\n",
      "MEGASPORANGIA MEGASPORANGIUM\n",
      "MESOTHELIA MESOTHELIUM\n",
      "MICROSPORANGIA MICROSPORANGIUM\n",
      "MILIA MILIUM\n",
      "MILLENNIA MILLENNIUM\n",
      "MIRACIDIA MIRACIDIUM\n",
      "MONOCHASIA MONOCHASIUM\n",
      "MONOPODIA MONOPODIUM\n",
      "MORATORIA MORATORIUM\n",
      "MYCELIA MYCELIUM\n",
      "MYCOBACTERIA MYCOBACTERIUM\n",
      "MYOCARDIA MYOCARDIUM\n",
      "NATATORIA NATATORIUM\n",
      "NEPHRIDIA NEPHRIDIUM\n",
      "NONEQUILIBRIA NONEQUILIBRIUM\n",
      "OCEANARIA OCEANARIUM\n",
      "OIDIA OIDIUM\n",
      "OMMATIDIA OMMATIDIUM\n",
      "OOGONIA OOGONIUM\n",
      "OSMETERIA OSMETERIUM\n",
      "OSTENSORIA OSTENSORIUM\n",
      "OSTIA OSTIUM\n",
      "PALLADIA PALLADIUM\n",
      "PALLIA PALLIUM\n",
      "PANCRATIA PANCRATIUM\n",
      "PARAMECIA PARAMECIUM\n",
      "PARAPODIA PARAPODIUM\n",
      "PATAGIA PATAGIUM\n",
      "PECULIA PECULIUM\n",
      "PENICILLIA PENICILLIUM\n",
      "PERICARDIA PERICARDIUM\n",
      "PERICHONDRIA PERICHONDRIUM\n",
      "PERICRANIA PERICRANIUM\n",
      "PERIDIA PERIDIUM\n",
      "PERIMYSIA PERIMYSIUM\n",
      "PERINEURIA PERINEURIUM\n",
      "PERIONYCHIA PERIONYCHIUM\n",
      "PERITHECIA PERITHECIUM\n",
      "PHYLLODIA PHYLLODIUM\n",
      "PLANETARIA PLANETARIUM\n",
      "PLASMODIA PLASMODIUM\n",
      "PODIA PODIUM\n",
      "POLLINIA POLLINIUM\n",
      "POLYPARIA POLYPARIUM\n",
      "PRAESIDIA PRAESIDIUM\n",
      "PRESIDIA PRESIDIUM\n",
      "PRIMORDIA PRIMORDIUM\n",
      "PRINCIPIA PRINCIPIUM\n",
      "PROCAMBIA PROCAMBIUM\n",
      "PROPRIA PROPRIUM\n",
      "PROSCENIA PROSCENIUM\n",
      "PROSTOMIA PROSTOMIUM\n",
      "PROTHALAMIA PROTHALAMIUM\n",
      "PROTHALLIA PROTHALLIUM\n",
      "PSALTERIA PSALTERIUM\n",
      "PSEUDOPODIA PSEUDOPODIUM\n",
      "PTERYGIA PTERYGIUM\n",
      "PUERPERIA PUERPERIUM\n",
      "PUPARIA PUPARIUM\n",
      "PYCNIDIA PYCNIDIUM\n",
      "PYGIDIA PYGIDIUM\n",
      "PYXIDIA PYXIDIUM\n",
      "QUADRENNIA QUADRENNIUM\n",
      "QUADRIVIA QUADRIVIUM\n",
      "QUINQUENNIA QUINQUENNIUM\n",
      "REFUGIA REFUGIUM\n",
      "REPTILIA REPTILIUM\n",
      "RHIZOBIA RHIZOBIUM\n",
      "ROSARIA ROSARIUM\n",
      "SACRARIA SACRARIUM\n",
      "SANATORIA SANATORIUM\n",
      "SANITARIA SANITARIUM\n",
      "SANITORIA SANITORIUM\n",
      "SCANDIA SCANDIUM\n",
      "SCHOLIA SCHOLIUM\n",
      "SCLEROTIA SCLEROTIUM\n",
      "SCRIPTORIA SCRIPTORIUM\n",
      "SEDILIA SEDILIUM\n",
      "SENSORIA SENSORIUM\n",
      "SEPTARIA SEPTARIUM\n",
      "SESTERTIA SESTERTIUM\n",
      "SOLARIA SOLARIUM\n",
      "SOLATIA SOLATIUM\n",
      "SPERMAGONIA SPERMAGONIUM\n",
      "SPERMATIA SPERMATIUM\n",
      "SPERMATOGONIA SPERMATOGONIUM\n",
      "SPLENIA SPLENIUM\n",
      "SPORANGIA SPORANGIUM\n",
      "SPOROGONIA SPOROGONIUM\n",
      "STADIA STADIUM\n",
      "STAMINODIA STAMINODIUM\n",
      "STRONTIA STRONTIUM\n",
      "STYLOPODIA STYLOPODIUM\n",
      "SUDARIA SUDARIUM\n",
      "SUDATORIA SUDATORIUM\n",
      "SYCONIA SYCONIUM\n",
      "SYMPODIA SYMPODIUM\n",
      "SYMPOSIA SYMPOSIUM\n",
      "SYNCYTIA SYNCYTIUM\n",
      "TELIA TELIUM\n",
      "TENTORIA TENTORIUM\n",
      "TERBIA TERBIUM\n",
      "TERMITARIA TERMITARIUM\n",
      "TERRARIA TERRARIUM\n",
      "THORIA THORIUM\n",
      "THULIA THULIUM\n",
      "TITANIA TITANIUM\n",
      "TRAPEZIA TRAPEZIUM\n",
      "TRICLINIA TRICLINIUM\n",
      "TRIENNIA TRIENNIUM\n",
      "TRIFORIA TRIFORIUM\n",
      "TRIVIA TRIVIUM\n",
      "URANIA URANIUM\n",
      "UREDIA UREDIUM\n",
      "UREDINIA UREDINIUM\n",
      "UROPYGIA UROPYGIUM\n",
      "VELARIA VELARIUM\n",
      "VESTIGIA VESTIGIUM\n",
      "VIVARIA VIVARIUM\n",
      "YTTERBIA YTTERBIUM\n",
      "YTTRIA YTTRIUM\n",
      "ZIRCONIA ZIRCONIUM\n",
      "ZOARIA ZOARIUM\n",
      "ZOECIA ZOECIUM\n",
      "ZOOECIA ZOOECIUM\n",
      "ZOOSPORANGIA ZOOSPORANGIUM\n"
     ]
    }
   ],
   "source": [
    "for word in words:\n",
    "    if word[-2:]=='IA' and word[:-2]+'IUM' in words:\n",
    "        print(word, word[:-2]+'IUM')"
   ]
  },
  {
   "cell_type": "markdown",
   "metadata": {},
   "source": [
    "## Is the reversed word in words?\n",
    "A palindrome tests whether the reverse of a word is equal to itself.\n",
    "Here we find whether the reverse of a word is also in the list words.\n",
    "But we only keep words of length greater than or equal to 7.\n",
    "A Python *set* allows for **very efficient** test for membership. \n",
    "In the above search for *ia* and *ium* pairs, we only tested for membership\n",
    "for the small number of words ending in *ia*, so the slow speed was tolerable."
   ]
  },
  {
   "cell_type": "code",
   "execution_count": 16,
   "metadata": {
    "collapsed": false,
    "jupyter": {
     "outputs_hidden": false
    }
   },
   "outputs": [],
   "source": [
    "wordset=set(words) "
   ]
  },
  {
   "cell_type": "code",
   "execution_count": 17,
   "metadata": {
    "collapsed": false,
    "jupyter": {
     "outputs_hidden": false
    }
   },
   "outputs": [],
   "source": [
    "gold=[] # will be a list of things that match the criteria\n",
    "for word in words:\n",
    "    reverseit = word[::-1]\n",
    "    if len(word)<7 : continue # note continue means \"don't go on\"\n",
    "    if reverseit in wordset: gold.append(word) "
   ]
  },
  {
   "cell_type": "markdown",
   "metadata": {},
   "source": [
    "You can experiment with the above by changing to `if reversit in words:`.  But it will be SLOW to complete. Go to the Kernel tab and select *Interrupt* to terminate the cell computation. "
   ]
  },
  {
   "cell_type": "code",
   "execution_count": 18,
   "metadata": {
    "collapsed": false,
    "jupyter": {
     "outputs_hidden": false
    }
   },
   "outputs": [
    {
     "data": {
      "text/plain": [
       "23"
      ]
     },
     "execution_count": 18,
     "metadata": {},
     "output_type": "execute_result"
    }
   ],
   "source": [
    "len(gold)"
   ]
  },
  {
   "cell_type": "code",
   "execution_count": 19,
   "metadata": {
    "collapsed": false,
    "jupyter": {
     "outputs_hidden": false
    }
   },
   "outputs": [
    {
     "name": "stdout",
     "output_type": "stream",
     "text": [
      "DEIFIED DEIFIED\n",
      "DEIFIER REIFIED\n",
      "DELIVER REVILED\n",
      "DESSERT TRESSED\n",
      "DESSERTS STRESSED\n",
      "GATEMAN NAMETAG\n",
      "HALALAH HALALAH\n",
      "NAMETAG GATEMAN\n",
      "REDRAWER REWARDER\n",
      "REIFIED DEIFIER\n",
      "REIFIER REIFIER\n",
      "REKNITS STINKER\n",
      "REPAPER REPAPER\n",
      "REVILED DELIVER\n",
      "REVIVER REVIVER\n",
      "REWARDER REDRAWER\n",
      "ROTATOR ROTATOR\n",
      "SALLETS STELLAS\n",
      "SEMEMES SEMEMES\n",
      "STELLAS SALLETS\n",
      "STINKER REKNITS\n",
      "STRESSED DESSERTS\n",
      "TRESSED DESSERT\n"
     ]
    }
   ],
   "source": [
    "for word in gold:\n",
    "    print(word, word[::-1])\n"
   ]
  },
  {
   "cell_type": "markdown",
   "metadata": {},
   "source": [
    "## Counting words of the various lengths\n",
    "We use a [Python dictionary](http://learnpythonthehardway.org/book/ex39.html), with the key being the number of letters and the value being the population (frequency) of such words."
   ]
  },
  {
   "cell_type": "code",
   "execution_count": 20,
   "metadata": {
    "collapsed": false,
    "jupyter": {
     "outputs_hidden": false
    }
   },
   "outputs": [],
   "source": [
    "counts={}\n",
    "for word in words:\n",
    "    key = len(word)\n",
    "    if key not in counts:\n",
    "        counts[key] = 1\n",
    "    else:\n",
    "        counts[key] += 1"
   ]
  },
  {
   "cell_type": "code",
   "execution_count": 21,
   "metadata": {
    "collapsed": false,
    "jupyter": {
     "outputs_hidden": false
    }
   },
   "outputs": [],
   "source": [
    "keys = list( counts.keys() ) # In Python 3 counts.keys() would be an interator, so convert it to a list\n",
    "keys.sort() # sorts in place, meaning the original keys is replaced"
   ]
  },
  {
   "cell_type": "code",
   "execution_count": 22,
   "metadata": {
    "collapsed": false,
    "jupyter": {
     "outputs_hidden": false
    }
   },
   "outputs": [
    {
     "name": "stdout",
     "output_type": "stream",
     "text": [
      "2 101\n",
      "3 1015\n",
      "4 4030\n",
      "5 8938\n",
      "6 15788\n",
      "7 24029\n",
      "8 29766\n",
      "9 29150\n",
      "10 22326\n",
      "11 16165\n",
      "12 11417\n",
      "13 7750\n",
      "14 5059\n",
      "15 3157\n"
     ]
    }
   ],
   "source": [
    "for k in keys: \n",
    "    print (k, counts[k])"
   ]
  },
  {
   "cell_type": "markdown",
   "metadata": {},
   "source": [
    "Next we demonstrate the `get` method for Python dictionaries.  The second argument provides the default value for initialization, in case the key does not exist yet in the dictionary. The next cell has replaced 4 lines of Python with 1."
   ]
  },
  {
   "cell_type": "code",
   "execution_count": 23,
   "metadata": {
    "collapsed": false,
    "jupyter": {
     "outputs_hidden": false
    }
   },
   "outputs": [],
   "source": [
    "counts={}\n",
    "for word in words:\n",
    "    key = len(word)\n",
    "    counts[key] = counts.get(key,0) + 1 # if key is not in counts, initialize it, with value 0"
   ]
  },
  {
   "cell_type": "code",
   "execution_count": 24,
   "metadata": {
    "collapsed": false,
    "jupyter": {
     "outputs_hidden": false
    },
    "scrolled": true
   },
   "outputs": [
    {
     "data": {
      "text/plain": [
       "{2: 101,\n",
       " 3: 1015,\n",
       " 4: 4030,\n",
       " 5: 8938,\n",
       " 6: 15788,\n",
       " 7: 24029,\n",
       " 8: 29766,\n",
       " 9: 29150,\n",
       " 10: 22326,\n",
       " 11: 16165,\n",
       " 12: 11417,\n",
       " 13: 7750,\n",
       " 14: 5059,\n",
       " 15: 3157}"
      ]
     },
     "execution_count": 24,
     "metadata": {},
     "output_type": "execute_result"
    }
   ],
   "source": [
    "counts"
   ]
  },
  {
   "cell_type": "code",
   "execution_count": 25,
   "metadata": {
    "collapsed": false,
    "jupyter": {
     "outputs_hidden": false
    }
   },
   "outputs": [],
   "source": [
    "nletters = list( counts.keys() ) # list conversion needed for python3\n",
    "frequency = list( counts.values() )"
   ]
  },
  {
   "cell_type": "code",
   "execution_count": 26,
   "metadata": {
    "collapsed": false,
    "jupyter": {
     "outputs_hidden": false
    }
   },
   "outputs": [
    {
     "name": "stdout",
     "output_type": "stream",
     "text": [
      "[2, 3, 4, 5, 6, 7, 8, 9, 10, 11, 12, 13, 14, 15]\n",
      "[101, 1015, 4030, 8938, 15788, 24029, 29766, 29150, 22326, 16165, 11417, 7750, 5059, 3157]\n"
     ]
    }
   ],
   "source": [
    "print(nletters)\n",
    "print(frequency)"
   ]
  },
  {
   "cell_type": "markdown",
   "metadata": {},
   "source": [
    "Let's make a plot of our length distribution."
   ]
  },
  {
   "cell_type": "code",
   "execution_count": 27,
   "metadata": {
    "collapsed": false,
    "jupyter": {
     "outputs_hidden": false
    }
   },
   "outputs": [],
   "source": [
    "import matplotlib.pyplot as plt\n",
    "%matplotlib inline"
   ]
  },
  {
   "cell_type": "code",
   "execution_count": 28,
   "metadata": {
    "collapsed": false,
    "jupyter": {
     "outputs_hidden": false
    }
   },
   "outputs": [
    {
     "data": {
      "image/png": "[encoded data removed]",
      "text/plain": [
       "<matplotlib.figure.Figure at 0x7fab4e247e48>"
      ]
     },
     "metadata": {},
     "output_type": "display_data"
    }
   ],
   "source": [
    "myfig,myaxes=plt.subplots()\n",
    "myaxes.plot(nletters, frequency,'r*') # r means read, * means star\n",
    "myaxes.set_title('data from scrabble.txt')\n",
    "myaxes.set_xlabel('length of word')\n",
    "myaxes.set_ylabel('number of words'); # <=experiment with this semi-colon!"
   ]
  },
  {
   "cell_type": "markdown",
   "metadata": {},
   "source": [
    "## Sorting by property\n",
    "\n",
    "Rather than just counting the words of various types, let's sort them and keep them."
   ]
  },
  {
   "cell_type": "code",
   "execution_count": 29,
   "metadata": {
    "collapsed": false,
    "jupyter": {
     "outputs_hidden": false
    }
   },
   "outputs": [
    {
     "name": "stdout",
     "output_type": "stream",
     "text": [
      "AA 4['AA', 'BAA', 'MARKKAA', 'RUFIYAA']\n",
      "BB 5['BIBB', 'COBB', 'EBB', 'JIBB', 'SIBB']\n",
      "DD 9['ADD', 'MISADD', 'ODD', 'OUTADD', 'READD', 'REDD', 'RUDD', 'SUDD', 'SUPERADD']\n",
      "EE 375 Too many, here are a few: ['WEE', 'WEEWEE', 'WHANGEE', 'WHEE', 'WHIFFLETREE', 'WHIPPLETREE', 'WHOOPEE', 'YIPPEE', 'YOGEE', 'ZEE']\n",
      "FF 154 Too many, here are a few: ['TRADEOFF', 'TUFF', 'TURNOFF', 'UNCUFF', 'WAFF', 'WAITSTAFF', 'WAVEOFF', 'WHIFF', 'WOODRUFF', 'YAFF']\n",
      "GG 14['EGG', 'GLOGG', 'GOLLIWOGG', 'HOGG', 'IGG', 'JAGG', 'MAHJONGG', 'MIGG', 'MUGG', 'NOGG', 'RAGG', 'TEGG', 'VUGG', 'YEGG']\n",
      "HH 2['AARRGHH', 'SHH']\n",
      "II 17['AALII', 'BACCHII', 'CONGII', 'DENARII', 'GASTROCNEMII', 'GENII', 'MEDII', 'NAUPLII', 'RADII', 'RETIARII', 'SARTORII', 'SENARII', 'SEPTENARII', 'SEXTARII', 'SPLENII', 'TORII', 'TRAPEZII']\n",
      "JJ 1['HAJJ']\n",
      "LL 441 Too many, here are a few: ['WINDFALL', 'WINDGALL', 'WINDMILL', 'WINDOWSILL', 'WINTERKILL', 'WOOLFELL', 'XANTHOPHYLL', 'YELL', 'YILL', 'ZILL']\n",
      "MM 4['HMM', 'MM', 'MUMM', 'UMM']\n",
      "NN 8['BUNN', 'CONN', 'DJINN', 'INN', 'JINN', 'LINN', 'SUNN', 'WYNN']\n",
      "OO 74['ACHOO', 'AHCHOO', 'BABOO', 'BALLYHOO', 'BAMBOO', 'BAZOO', 'BOO', 'BOOBOO', 'BOOCOO', 'BOOHOO', 'BOOKOO', 'BROO', 'BUCKAROO', 'BUCKEROO', 'BUGABOO', 'BURGOO', 'CALLALOO', 'CASHOO', 'COCKAPOO', 'COCKATOO', 'COO', 'COOCOO', 'CUCKOO', 'DIDGERIDOO', 'DIDJERIDOO', 'DOODOO', 'GARDYLOO', 'GAZOO', 'GENTOO', 'GOO', 'HALLOO', 'HOLLOO', 'HOODOO', 'HOOPOO', 'HULLABALOO', 'HULLOO', 'IGLOO', 'JACKAROO', 'JACKEROO', 'JIGABOO', 'KANGAROO', 'KAROO', 'KARROO', 'KAZOO', 'KERCHOO', 'KOODOO', 'LOO', 'MOO', 'NOO', 'PEEKABOO', 'PEEKAPOO', 'PEKEPOO', 'POO', 'RUBABOO', 'RUBBABOO', 'SHAMPOO', 'SHOO', 'SKIDDOO', 'SKIDOO', 'STINKEROO', 'SWITCHEROO', 'TABOO', 'TATTOO', 'TOO', 'VINDALOO', 'VOODOO', 'WAHOO', 'WALLAROO', 'WANDEROO', 'WATERLOO', 'WAZOO', 'WOO', 'YAHOO', 'ZOO']\n",
      "PP 5['APP', 'REPP', 'SCHLEPP', 'SHLEPP', 'TYPP']\n",
      "RR 22['BIRR', 'BRR', 'BRRR', 'BURR', 'CARR', 'CHARR', 'CHIRR', 'CHURR', 'CURR', 'DORR', 'DURR', 'ERR', 'GNARR', 'MURR', 'PARR', 'PURR', 'SANDBURR', 'SHIRR', 'SKIRR', 'TORR', 'WHIRR', 'YIRR']\n",
      "SS 3933 Too many, here are a few: ['YOUTHFULNESS', 'YUCKINESS', 'YUMMINESS', 'ZANINESS', 'ZEALOUSNESS', 'ZEBRASS', 'ZESTFULNESS', 'ZESTLESS', 'ZIPLESS', 'ZONELESS']\n",
      "TT 36['ABWATT', 'ANTIBOYCOTT', 'ATT', 'BABBITT', 'BASSETT', 'BATT', 'BITT', 'BOTT', 'BOYCOTT', 'BRITT', 'BUTT', 'CHOTT', 'FRITT', 'GIGAWATT', 'KAPUTT', 'KILOWATT', 'MATT', 'MEGAWATT', 'MICROWATT', 'MILLIWATT', 'MITT', 'MOTT', 'MULTIMEGAWATT', 'MUTT', 'NANOWATT', 'NETT', 'PUTT', 'SCATT', 'SCUTTLEBUTT', 'SEMIMATT', 'SETT', 'SHOTT', 'STOTT', 'TERAWATT', 'WATT', 'YETT']\n",
      "UU 1['MUUMUU']\n",
      "ZZ 18['ABUZZ', 'BEZAZZ', 'BUZZ', 'FIZZ', 'FRIZZ', 'FUZZ', 'JAZZ', 'PAZAZZ', 'PIZAZZ', 'PIZZAZZ', 'RAZZ', 'RAZZAMATAZZ', 'RAZZMATAZZ', 'SCHNOZZ', 'SCUZZ', 'SPAZZ', 'WHIZZ', 'ZZZ']\n"
     ]
    }
   ],
   "source": [
    "bins = {}\n",
    "for word in  words:\n",
    "    if word[-1]==word[-2]:\n",
    "        key = word[-2:]\n",
    "        if key in bins:\n",
    "            bins[key].append(word)\n",
    "        else:\n",
    "            bins[key] = [word]\n",
    "            \n",
    "for key in sorted(bins):\n",
    "    inbin = bins[key]\n",
    "    lbin = len(inbin)\n",
    "    print(key, lbin, end='')\n",
    "    if lbin<100:\n",
    "        print(inbin)\n",
    "    else:\n",
    "        print(\" Too many, here are a few:\",inbin[-10:])\n",
    "    "
   ]
  },
  {
   "cell_type": "code",
   "execution_count": 30,
   "metadata": {
    "collapsed": false,
    "jupyter": {
     "outputs_hidden": false
    }
   },
   "outputs": [
    {
     "name": "stdout",
     "output_type": "stream",
     "text": [
      "2 101 ['XU', 'YA', 'YE', 'YO', 'ZA']\n",
      "3 1015 ['ZIT', 'ZOA', 'ZOO', 'ZUZ', 'ZZZ']\n",
      "4 4030 ['ZOON', 'ZOOS', 'ZORI', 'ZOUK', 'ZYME']\n",
      "5 8938 ['ZORIS', 'ZOUKS', 'ZOWIE', 'ZUZIM', 'ZYMES']\n",
      "6 15788 ['ZYGOID', 'ZYGOMA', 'ZYGOSE', 'ZYGOTE', 'ZYMASE']\n",
      "7 24029 ['ZYMOSES', 'ZYMOSIS', 'ZYMOTIC', 'ZYMURGY', 'ZYZZYVA']\n",
      "8 29766 ['ZYMOGENS', 'ZYMOGRAM', 'ZYMOLOGY', 'ZYMOSANS', 'ZYZZYVAS']\n",
      "9 29150 ['ZYMOLYSES', 'ZYMOLYSIS', 'ZYMOLYTIC', 'ZYMOMETER', 'ZYMURGIES']\n",
      "10 22326 ['ZYGOMORPHY', 'ZYGOSITIES', 'ZYGOSPORES', 'ZYMOLOGIES', 'ZYMOMETERS']\n",
      "11 16165 ['ZOOPLANKTER', 'ZOOPLANKTON', 'ZOOTECHNICS', 'ZWITTERIONS', 'ZYGOMORPHIC']\n",
      "12 11417 ['ZOOXANTHELLA', 'ZWITTERIONIC', 'ZYGAPOPHYSES', 'ZYGAPOPHYSIS', 'ZYGOMORPHIES']\n",
      "13 7750 ['ZOOGEOGRAPHIC', 'ZOOPLANKTONIC', 'ZOOSPORANGIUM', 'ZOOXANTHELLAE', 'ZYGODACTYLOUS']\n",
      "14 5059 ['XEROPHTHALMIAS', 'YOUTHFULNESSES', 'ZOMBIFICATIONS', 'ZOOGEOGRAPHERS', 'ZOOGEOGRAPHIES']\n",
      "15 3157 ['WORTHLESSNESSES', 'WRONGHEADEDNESS', 'XEROGRAPHICALLY', 'XERORADIOGRAPHY', 'ZOOGEOGRAPHICAL']\n"
     ]
    }
   ],
   "source": [
    "mystudy={} # empty dictionary. key will access a list\n",
    "for word in words:\n",
    "    key=len(word)\n",
    "    mystudy.setdefault(key,[]).append(word) # if key does not exist, intialize value as []\n",
    "for key in sorted(mystudy): # using sorted this way returns sorted keys\n",
    "    thelist = mystudy[key]\n",
    "    print(key, len(thelist) , thelist[-5:])\n",
    "     # not too long? print the words"
   ]
  },
  {
   "cell_type": "markdown",
   "metadata": {},
   "source": [
    "## Find words with  *a e i o u*, in order"
   ]
  },
  {
   "cell_type": "code",
   "execution_count": 31,
   "metadata": {
    "collapsed": false,
    "jupyter": {
     "outputs_hidden": false
    }
   },
   "outputs": [
    {
     "name": "stdout",
     "output_type": "stream",
     "text": [
      "ABSTEMIOUS\n",
      "ABSTEMIOUSLY\n",
      "ABSTENTIOUS\n",
      "ARSENIOUS\n",
      "FACETIOUS\n",
      "FACETIOUSLY\n"
     ]
    }
   ],
   "source": [
    "for word in words:\n",
    "    vonly=word # vonly will have all consontants removed\n",
    "    for letter in 'BCDFGHJKLMNPQRSTVWXYZ'.upper():\n",
    "        vonly=vonly.replace(letter,\"\") # replace letter with empty string \n",
    "    if vonly=='AEIOU': print(word)"
   ]
  },
  {
   "cell_type": "markdown",
   "metadata": {},
   "source": [
    "# STUDENTS: Tasks for you!\n",
    "In my freshman class METR 1313, students were expected to be able to complete these after about a month into the course."
   ]
  },
  {
   "cell_type": "code",
   "execution_count": 32,
   "metadata": {
    "collapsed": false,
    "jupyter": {
     "outputs_hidden": false
    }
   },
   "outputs": [
    {
     "name": "stdout",
     "output_type": "stream",
     "text": [
      "percent of words longer than previous word: 51.85040097150948\n"
     ]
    }
   ],
   "source": [
    "prev = words[0] # the first word is stored as the previous word\n",
    "count = 0\n",
    "for word in words[1:]: # examine all words, skipping the first word\n",
    "    if len(word) > len(prev): \n",
    "        count += 1\n",
    "    prev = word # current word becomes the previous word\n",
    "hit = 100.0*count/len(words) # percent of words satisfying criterion\n",
    "print('percent of words longer than previous word:',hit)"
   ]
  },
  {
   "cell_type": "markdown",
   "metadata": {},
   "source": [
    "Try finding the percent of words shorter than the previous words. I find 33.98 %. I conclude that as words lengthen, they tend to lengthen by a smaller amount than they shorten. The shortening tends to be a like a cold front or a stock market correction: an abrupt decrease."
   ]
  },
  {
   "cell_type": "markdown",
   "metadata": {},
   "source": [
    "## Your Task 1:  \n",
    "\n",
    "Cut and paste the above code into a new cell.  For what percent does the word start with the previous word? We anticipate quite a few. But the \"s\" plural commonly will follow a noun. So we also find the percent that start with previous word, but that are not the \"s\" plural.  Here is what I find:\n",
    "\n",
    "```\n",
    "percent starting with previous word: 35.4785134775\n",
    "...but not being the \"s\" plural: 17.5399002349\n",
    "```\n",
    "\n",
    "For debugging your cell, you may want to put in a line that is executed if the word \"counts\":\n",
    "```python\n",
    "print(word,prev)\n",
    "```\n",
    "\n",
    "The following tips may be helpful for your task. Do you know how to use Python's `and` and `or`?"
   ]
  },
  {
   "cell_type": "code",
   "execution_count": 33,
   "metadata": {
    "collapsed": false,
    "jupyter": {
     "outputs_hidden": false
    }
   },
   "outputs": [
    {
     "name": "stdout",
     "output_type": "stream",
     "text": [
      "True False\n"
     ]
    }
   ],
   "source": [
    "prev = 'sooner'\n",
    "word = 'sooners'\n",
    "question1 = word.startswith(prev)\n",
    "question2 = word != prev+'s'\n",
    "print(question1,question2)"
   ]
  },
  {
   "cell_type": "code",
   "execution_count": 34,
   "metadata": {
    "collapsed": false,
    "jupyter": {
     "outputs_hidden": false
    }
   },
   "outputs": [
    {
     "name": "stdout",
     "output_type": "stream",
     "text": [
      "percent starting with previous word: 0.0\n",
      "...but not being the \"s\" plural: 0.0\n"
     ]
    }
   ],
   "source": [
    "lw=len(words)\n",
    "prev = words[0] # the first word is stored as the previous word\n",
    "count = 0\n",
    "notscount = 0\n",
    "for word in words[1:]: # examine all words, skipping the first word\n",
    "#STUDENTS: put a few lines of code here!!\n",
    "    prev = word # current word becomes the previous word\n",
    "print('percent starting with previous word:', 100.*count/lw) \n",
    "print('...but not being the \"s\" plural:', 100.*notscount/lw) "
   ]
  },
  {
   "cell_type": "markdown",
   "metadata": {},
   "source": [
    "## Your Task 2:\n",
    "\n",
    "Below study of words that end in 'r', but for which the word +'e' is not in scrabble.txt\n",
    "\n",
    "Thus 'scar' is *not* studied, because 'scare' exists. \n",
    "We ask: should we double the 'r' before appending 'iest'?? Let's find out...\n",
    "\n",
    "From the output I can infer a rule:\n",
    "*one syllable and single vowel before 'r', then double the 'r'*"
   ]
  },
  {
   "cell_type": "code",
   "execution_count": 35,
   "metadata": {
    "collapsed": false,
    "jupyter": {
     "outputs_hidden": false
    }
   },
   "outputs": [
    {
     "name": "stdout",
     "output_type": "stream",
     "text": [
      "air airiest\n",
      "beer beeriest\n",
      "blear bleariest\n",
      "blur blurriest *\n",
      "bur burriest *\n",
      "burr burriest\n",
      "butter butteriest\n",
      "charr charriest\n",
      "cheer cheeriest\n",
      "drear dreariest\n",
      "feather featheriest\n",
      "flower floweriest\n",
      "fur furriest *\n",
      "hair hairiest\n",
      "hoar hoariest\n",
      "jitter jitteriest\n",
      "lear leariest\n",
      "leer leeriest\n",
      "moor mooriest\n",
      "pucker puckeriest\n",
      "rubber rubberiest\n",
      "savor savoriest\n",
      "savour savouriest\n",
      "skitter skitteriest\n",
      "slipper slipperiest\n",
      "smear smeariest\n",
      "sneer sneeriest\n",
      "spider spideriest\n",
      "sugar sugariest\n",
      "summer summeriest\n",
      "tear teariest\n",
      "tower toweriest\n",
      "water wateriest\n",
      "wear weariest\n",
      "winter winteriest\n",
      "simple= 32    double= 3\n"
     ]
    }
   ],
   "source": [
    "wordl=[x.lower() for x in words] #lower case words are easier to read, I think\n",
    "wordset=set(wordl)\n",
    "count=0 # count of words for which 'r' is not doubled\n",
    "countt=0 # count of words for which 'r' is doubled\n",
    "for word in wordl:\n",
    "    if word[-1] != 'r': continue\n",
    "    if word+'e' in wordset: continue\n",
    "    simple = word + 'iest'\n",
    "    double = word + 'riest'\n",
    "    if simple in wordset:\n",
    "         print(word,simple) \n",
    "         count+=1\n",
    "    elif double in wordset:\n",
    "        print(word,double,'*')\n",
    "        countt+=1\n",
    "print('simple=',count,'   double=',countt)\n"
   ]
  },
  {
   "cell_type": "markdown",
   "metadata": {},
   "source": [
    "Let's study this: [Why isn't edited spelt 'editted'?](http://www.lifehacker.com.au/2012/09/why-isnt-edited-spelt-editted/) Modify the above program to study words that end in it. Do we double the **t** before we append **ted**?\n",
    "\n",
    "\n",
    "If your program is working, here are the last three lines that you should see:\n",
    "```\n",
    "yacht yachted\n",
    "yeast yeasted\n",
    "zest zested\n",
    "simple= 1219    double= 145\n",
    "```\n",
    "\n",
    "In the middle of the output I see:\n",
    "```\n",
    "...\n",
    "dust dusted\n",
    "edit edited\n",
    "effect effected\n",
    "egest egested\n",
    "eject ejected\n",
    "elect elected\n",
    "elicit elicited\n",
    "emit emitted *\n",
    "enact enacted\n",
    "...\n",
    "```\n",
    "As stated in the reference, there is no general spelling rule that distinguishes *emitted* from *edited*.\n"
   ]
  },
  {
   "cell_type": "code",
   "execution_count": 36,
   "metadata": {
    "collapsed": false,
    "jupyter": {
     "outputs_hidden": false
    }
   },
   "outputs": [
    {
     "name": "stdout",
     "output_type": "stream",
     "text": [
      "simple= 0    double= 0\n"
     ]
    }
   ],
   "source": [
    "# Fix this!\n",
    "wordl=[x.lower() for x in words]\n",
    "wordset=set(wordl)\n",
    "count=0 # count of words for which 't' is not doubled\n",
    "countt=0 # count of words for which 't' is doubled\n",
    "for word in wordl:\n",
    "    if word[-1] != 't': continue\n",
    "    if word+'e' in wordset: continue\n",
    "    simple = word + 'thisiswrong'\n",
    "    double = word + 'thisiswrongtoo'\n",
    "    if simple in wordset:\n",
    "         print(word,simple) \n",
    "         count+=1\n",
    "    elif double in wordset:\n",
    "        print(word,double,'*')\n",
    "        countt+=1\n",
    "print('simple=',count,'   double=',countt)\n"
   ]
  },
  {
   "cell_type": "markdown",
   "metadata": {},
   "source": [
    "## Your Task 3:\n",
    "\n",
    "What words have the most consective consonants?  Below is a program that finds the number of *consective consonants* in a word, and sorts the words by that number.\n",
    "\n",
    "**Your task:** modify the program to sort words by the maximum number of *consecutive vowels*, but not allowing 'y' to be counted as a vowel."
   ]
  },
  {
   "cell_type": "code",
   "execution_count": 37,
   "metadata": {
    "collapsed": false,
    "jupyter": {
     "outputs_hidden": false
    }
   },
   "outputs": [],
   "source": [
    "# returns the maximum number of consective consonants\n",
    "def consec(aword):\n",
    "    maxrun = 0\n",
    "    champion = 0\n",
    "    for letter in aword:\n",
    "        if letter in 'aeiouy':\n",
    "            maxrun = 0 # reset the count of consecutive consonants\n",
    "        else:\n",
    "            maxrun += 1 \n",
    "            champion = max(champion,maxrun) # compare with any previous champion\n",
    "    return champion"
   ]
  },
  {
   "cell_type": "code",
   "execution_count": 38,
   "metadata": {
    "collapsed": false,
    "jupyter": {
     "outputs_hidden": false
    }
   },
   "outputs": [
    {
     "data": {
      "text/plain": [
       "3"
      ]
     },
     "execution_count": 38,
     "metadata": {},
     "output_type": "execute_result"
    }
   ],
   "source": [
    "consec('church')"
   ]
  },
  {
   "cell_type": "code",
   "execution_count": 39,
   "metadata": {
    "collapsed": false,
    "jupyter": {
     "outputs_hidden": false
    }
   },
   "outputs": [
    {
     "name": "stdout",
     "output_type": "stream",
     "text": [
      "here are all the keys [0, 1, 2, 3, 4, 5, 6, 7]\n",
      "0 16\n",
      "['aa', 'ae', 'ai', 'ay', 'aye', 'eau', 'eye', 'oe', 'oi', 'oy', 'ya', 'yay', 'ye', 'yea', 'yo', 'you']\n",
      "1 25661\n",
      "2 111682\n",
      "3 37611\n",
      "4 3530\n",
      "5 179\n",
      "['aarrghh', 'angstrom', 'angstroms', 'angsts', 'archpriest', 'archpriests', 'backsplash', 'backsplashes', 'backstreet', 'backstreets', 'backstretch', 'backstretches', 'backstroke', 'backstrokes', 'birthplace', 'birthplaces', 'birthstone', 'birthstones', 'borscht', 'borshts', 'braunschweiger', 'braunschweigers', 'breaststroke', 'breaststroker', 'breaststrokers', 'breaststrokes', 'bremsstrahlung', 'bremsstrahlungs', 'bunchgrass', 'bunchgrasses', 'catchflies', 'catchfly', 'corkscrew', 'corkscrewed', 'corkscrewing', 'corkscrews', 'crwth', 'dirndls', 'downstream', 'downstroke', 'downstrokes', 'downthrow', 'downthrows', 'draughtsman', 'draughtsmen', 'dumbstruck', 'earthshaker', 'earthshakers', 'earthshaking', 'earthshakingly', 'earthshine', 'earthshines', 'earthstar', 'earthstars', 'eighthly', 'eighths', 'erstwhile', 'feldscher', 'feldschers', 'fieldstrip', 'fieldstripped', 'fieldstripping', 'fieldstrips', 'filmstrip', 'filmstrips', 'firstfruits', 'gesellschaft', 'gesellschafts', 'handsbreadth', 'handsbreadths', 'handspring', 'handsprings', 'hardscrabble', 'hearthstone', 'hearthstones', 'heartstring', 'heartstrings', 'heartthrob', 'heartthrobs', 'heighths', 'highths', 'jackscrew', 'jackscrews', 'jackstraw', 'jackstraws', 'jockstrap', 'jockstraps', 'lengths', 'lengthways', 'lengthwise', 'lightplane', 'lightplanes', 'lightproof', 'lightship', 'lightships', 'matchstick', 'matchsticks', 'millstream', 'millstreams', 'nightclothes', 'nightclub', 'nightclubbed', 'nightclubber', 'nightclubbers', 'nightclubbing', 'nightclubs', 'nightdress', 'nightdresses', 'nightglow', 'nightglows', 'nightscope', 'nightscopes', 'nightshade', 'nightshades', 'nightshirt', 'nightshirts', 'nightspot', 'nightspots', 'nightstand', 'nightstands', 'nightstick', 'nightsticks', 'offscreen', 'offspring', 'offsprings', 'overlengths', 'packthread', 'packthreads', 'phenolphthalein', 'phpht', 'pitchblende', 'pitchblendes', 'postscript', 'postscripts', 'poststrike', 'ringstraked', 'sempstress', 'sempstresses', 'songstress', 'songstresses', 'spendthrift', 'spendthrifts', 'sportswriter', 'sportswriters', 'sportswriting', 'sportswritings', 'straightbred', 'straightbreds', 'strengths', 'superstrengths', 'switchblade', 'switchblades', 'switchgrass', 'switchgrasses', 'thousandths', 'thumbscrew', 'thumbscrews', 'tightknit', 'twelfths', 'warmths', 'watchcries', 'watchcry', 'wavelengths', 'wellspring', 'wellsprings', 'windscreen', 'windscreens', 'windthrow', 'windthrows', 'wingspread', 'wingspreads', 'witchcraft', 'witchcrafts', 'witchgrass', 'witchgrasses', 'worthwhile', 'worthwhileness', 'yachtsman', 'yachtsmen']\n",
      "6 11\n",
      "['borschts', 'catchphrase', 'catchphrases', 'crwths', 'latchstring', 'latchstrings', 'tsktsk', 'tsktsked', 'tsktsking', 'weltschmerz', 'weltschmerzes']\n",
      "7 1\n",
      "['tsktsks']\n"
     ]
    }
   ],
   "source": [
    "cstudy={}\n",
    "for word in wordl: # look at each word \n",
    "    key = consec(word) # diagnose quantitative word property\n",
    "    # If list for that key does not exist, initialize it.\n",
    "    # If the list does exist, append the word to it: \n",
    "    cstudy.setdefault(key,[]).append(word) # two steps in one line\n",
    "\n",
    "# now print out the results of the sorting\n",
    "allkeys = list( cstudy.keys() )\n",
    "allkeys.sort()\n",
    "print('here are all the keys',allkeys)\n",
    "for key in allkeys:\n",
    "    thelist = cstudy[key]\n",
    "    lenlist = len( thelist )\n",
    "    print( key, lenlist )\n",
    "    # also print the list if not too long\n",
    "    if lenlist < 200 : print( thelist ) "
   ]
  },
  {
   "cell_type": "code",
   "execution_count": null,
   "metadata": {
    "collapsed": true,
    "jupyter": {
     "outputs_hidden": true
    }
   },
   "outputs": [],
   "source": []
  }
 ],
 "metadata": {
  "anaconda-cloud": {},
  "kernelspec": {
   "display_name": "Python 3 (ipykernel)",
   "language": "python",
   "name": "python3"
  },
  "language_info": {
   "codemirror_mode": {
    "name": "ipython",
    "version": 3
   },
   "file_extension": ".py",
   "mimetype": "text/x-python",
   "name": "python",
   "nbconvert_exporter": "python",
   "pygments_lexer": "ipython3",
   "version": "3.11.7"
  },
  "name": "foreverybody-scrabble.ipynb"
 },
 "nbformat": 4,
 "nbformat_minor": 4
}
