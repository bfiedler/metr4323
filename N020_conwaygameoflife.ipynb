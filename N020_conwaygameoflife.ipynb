{
 "cells": [
  {
   "cell_type": "markdown",
   "metadata": {},
   "source": [
    "# Conway's Game of Life"
   ]
  },
  {
   "cell_type": "markdown",
   "metadata": {},
   "source": [
    "v 1.61 29 January 2018, by Brian Fiedler\n",
    "\n",
    "[Conway's Game of Life](http://www.bitstorm.org/gameoflife/) is related to simulation of weather. Both are about the change of a variable, or variables, defined on a grid.  The change is determined by the current state of the variable at a grid point and the state surrounding that grid point. Conway's Game of Life has much simpler rules than simulation of weather. And it is exact.  It is not an approximation that is to be compared with something in the natural world.\n",
    "\n",
    "Being simpler than simulating weather, we begin with Conway's Game of Life.   This will help us learn both the computional techniques with Python arrays (numpy) and the notebook organization that we will use in our simple weather simulations. But pay attention to this answer: [Does John Conway hate his Game of Life?](https://youtu.be/E8kUJL04ELA) \n",
    "\n",
    "For this jupyter notebook, if you do the **Cell>Run All**, scroll quickly to the end to see the animation.\n",
    "\n",
    "Also note the [Student Tasks](#Student-Tasks) indicated at the end of the notebook.\n",
    "\n",
    "BTW, this notebook is divided into python *cells*, which are different from Conway's *cells*.  When you hear Prof. Fiedler say *cell* or *cells*, you may be justifiably confused about which sort of *cell*."
   ]
  },
  {
   "cell_type": "code",
   "execution_count": 1,
   "metadata": {},
   "outputs": [],
   "source": [
    "# standard imports for many of our notebooks, will explain later.\n",
    "import matplotlib.pyplot as plt\n",
    "%matplotlib inline\n",
    "#%matplotlib nbagg\n",
    "from IPython.display import display,clear_output\n",
    "import time as Time\n",
    "import math\n",
    "import numpy as np\n",
    "import matplotlib\n",
    "matplotlib.rcParams.update({'font.size': 16})"
   ]
  },
  {
   "cell_type": "code",
   "execution_count": 2,
   "metadata": {},
   "outputs": [
    {
     "data": {
      "text/html": [
       "<style>\n",
       "div.text_cell_render{\n",
       "    background-color: #efe;\n",
       "    }\n",
       ".rendered_html code {\n",
       "    background-color: #efe;\n",
       "    color: #900;\n",
       "}\n",
       ".rendered_html pre {\n",
       "    background-color: #efe;\n",
       "    color: #900;\n",
       "}\n",
       ".rendered_html hr {\n",
       "height:6px;\n",
       "border:none;\n",
       "background-color: #f00;\n",
       "} \n",
       ".rendered_html h2 {margin-left: 1em; color: purple;  text-align:left; padding-top: 0.5em; }\n",
       ".rendered_html h3 {margin-left: 2em; color: olive;  text-align:left; padding-top: 0.5em; }\n",
       ".rendered_html h4 {margin-left: 3em; color: teal;  text-align:left; padding-top: 0.5em; }\n",
       "</style>\n"
      ],
      "text/plain": [
       "<IPython.core.display.HTML object>"
      ]
     },
     "execution_count": 2,
     "metadata": {},
     "output_type": "execute_result"
    }
   ],
   "source": [
    "from IPython.core.display import HTML\n",
    "import urllib.request\n",
    "HTML(urllib.request.urlopen('http://metrprof.xyz/metr4323.css').read().decode())\n",
    "#HTML( open('metr4323.css').read() ) #or use this, if you have downloaded metr4233.css to your computer"
   ]
  },
  {
   "cell_type": "markdown",
   "metadata": {},
   "source": [
    "Weather simulation involves making approximations to partial differential equations (PDEs) so that the equations predict changes on a discrete grid, rather than of a continuous function.  You may know that, when solving PDEs, the boundary conditions to the domain must be specified.  Boundary conditions must also be made when we make a discrete approximation to PDEs, and boundary conditions are also needed in Conway's Game of Life.  Here is an example [with periodic boundary conditions](http://www.edtechbybowman.net/PhysAstroSims/life/Life-examples.html). A cell on the top row senses the cell above it as the cell on the bottom row.  You can think of the domain as infinite, with periodic tiles. Alternatively, we could specify that there is no life (cells are off) in unseen cells just outside the cells seen in the domain.\n",
    "\n",
    "In the computation of Conway's Game of Life below, we can choose to use periodic boundary conditions.  We set the values of leftmost column equal to the *penultimate* column on the right, and so on. Normally, we choose not to plot these copied columns, so we will see exactly one tile of the infinitely-tiled domain. \n"
   ]
  },
  {
   "cell_type": "code",
   "execution_count": 3,
   "metadata": {},
   "outputs": [],
   "source": [
    "def periodic(a):\n",
    "    a[0,:]  = a[-2,:] # bottom row set equal to row adjacent to topmost.\n",
    "    a[-1,:] = a[1,:] # top-most row set equal to row one up from bottom\n",
    "    a[:,0]  = a[:,-2] # left column set equal to penultimate column\n",
    "    a[:,-1] = a[:,1] # right-most column set equal to one column in from left"
   ]
  },
  {
   "cell_type": "markdown",
   "metadata": {},
   "source": [
    "The *glider* is a simple arrangement that can travel forever.  We will use it as a test case."
   ]
  },
  {
   "cell_type": "code",
   "execution_count": 4,
   "metadata": {
    "scrolled": true
   },
   "outputs": [
    {
     "data": {
      "text/plain": [
       "array([[1, 0, 0],\n",
       "       [0, 1, 1],\n",
       "       [1, 1, 0]])"
      ]
     },
     "execution_count": 4,
     "metadata": {},
     "output_type": "execute_result"
    }
   ],
   "source": [
    "glider = np.array( [ [1,0,0], [0,1,1], [1,1,0] ] )\n",
    "glider"
   ]
  },
  {
   "cell_type": "markdown",
   "metadata": {},
   "source": [
    "<hr>\n",
    "Set your 3 parameters here. "
   ]
  },
  {
   "cell_type": "code",
   "execution_count": 5,
   "metadata": {},
   "outputs": [],
   "source": [
    "N=50 # the domain is NxN, N=10 for testing, more interesting with N=100\n",
    "init_choice = 0 # 0 for random initialization, 1 for glider\n",
    "enforce_periodic = True"
   ]
  },
  {
   "cell_type": "code",
   "execution_count": 6,
   "metadata": {},
   "outputs": [
    {
     "name": "stdout",
     "output_type": "stream",
     "text": [
      "[[0 0 0 ... 0 0 0]\n",
      " [0 1 1 ... 0 0 0]\n",
      " [0 0 0 ... 0 0 0]\n",
      " ...\n",
      " [0 0 1 ... 0 0 0]\n",
      " [0 0 1 ... 1 0 0]\n",
      " [0 0 0 ... 0 0 0]]\n",
      "\n",
      "apply periodic:\n",
      "[[0 0 1 ... 1 0 0]\n",
      " [0 1 1 ... 0 0 1]\n",
      " [0 0 0 ... 0 0 0]\n",
      " ...\n",
      " [0 0 1 ... 0 0 0]\n",
      " [0 0 1 ... 1 0 0]\n",
      " [0 1 1 ... 0 0 1]]\n"
     ]
    }
   ],
   "source": [
    "c = np.zeros((N,N),dtype=int) # initialize c as NxN array of 0\n",
    "\n",
    "# fill interior of c with random 1 and 0\n",
    "if init_choice == 0: # choose 1 with probility 0.3, choose 0 with probability 0.7\n",
    "    c[1:-1,1:-1] = np.random.choice( (1,0), (N-2)**2, p=(0.3,0.7) ).reshape((N-2,N-2))  \n",
    "    \n",
    "elif init_choice == 1:\n",
    "    c[1:4,1:4] = glider # put glider in top left\n",
    "    \n",
    "elif init_choice == 2:\n",
    "    print(\"not implemented yet\")\n",
    "\n",
    "print(c)\n",
    "print()\n",
    "\n",
    "if enforce_periodic:\n",
    "    periodic(c)\n",
    "    print(\"apply periodic:\")\n",
    "    print(c)"
   ]
  },
  {
   "cell_type": "code",
   "execution_count": 7,
   "metadata": {
    "scrolled": false
   },
   "outputs": [
    {
     "data": {
      "image/png": "[encoded data removed]",
      "text/plain": [
       "<Figure size 600x600 with 1 Axes>"
      ]
     },
     "metadata": {},
     "output_type": "display_data"
    }
   ],
   "source": [
    "myfig,myaxis = plt.subplots(figsize=(6,6))\n",
    "myaxis.axis('off')\n",
    "plt.title('showing whole computational domain')\n",
    "myaxis.imshow(c,interpolation=\"nearest\");"
   ]
  },
  {
   "cell_type": "code",
   "execution_count": 8,
   "metadata": {
    "scrolled": true
   },
   "outputs": [
    {
     "name": "stdout",
     "output_type": "stream",
     "text": [
      "[[1 1 1 ... 0 0 0]\n",
      " [0 0 0 ... 0 0 0]\n",
      " [1 1 0 ... 1 0 0]\n",
      " ...\n",
      " [0 0 0 ... 1 1 0]\n",
      " [0 1 0 ... 1 0 0]\n",
      " [0 1 0 ... 0 1 0]]\n"
     ]
    }
   ],
   "source": [
    "q = c[1:-1,1:-1] # q is the interior of c\n",
    "print(q)"
   ]
  },
  {
   "cell_type": "code",
   "execution_count": 9,
   "metadata": {
    "scrolled": true
   },
   "outputs": [
    {
     "data": {
      "image/png": "[encoded data removed]",
      "text/plain": [
       "<Figure size 600x600 with 1 Axes>"
      ]
     },
     "metadata": {},
     "output_type": "display_data"
    }
   ],
   "source": [
    "myfig,myaxis = plt.subplots(figsize=(6,6))\n",
    "myaxis.axis('off')\n",
    "plt.title('showing one tile')\n",
    "\n",
    "myaxis.imshow(q,interpolation=\"nearest\"); "
   ]
  },
  {
   "cell_type": "markdown",
   "metadata": {},
   "source": [
    "Below we demonstrate two ways to update the cells in Conway's Game of Life. \n",
    "\n",
    "In `slowstep` we examine the cells one at a time, count the neighbors and store the updated value of the cell.  Later we show `neighbors` and `faststep`, which use the numpy array syntax. That syntax is more compact but more obscure.  In most applications in this course, the array syntax is **much** faster and is essential.  But for the animation here, we deliberately slow down the computation so that the frames don't change too fast, so the slow way is acceptable too.  So the point here is to give a gentle introduction to using arrays in similar way to how we must use them to simulate PDEs quickly."
   ]
  },
  {
   "cell_type": "code",
   "execution_count": 10,
   "metadata": {},
   "outputs": [],
   "source": [
    "def slowstep(b):\n",
    "    I, J = b.shape\n",
    "    s = b.copy() # s will store the updated values of b\n",
    "    for i in range(1,I-1):\n",
    "        for j in range(1,J-1): # the n= statement is formatted to represent\n",
    "            # the physical location of the adjacent cells\n",
    "            n = +b[i-1,j-1] + b[i-1,j] + b[i-1,j+1] \\\n",
    "                +b[i  ,j-1] +            b[i,j+1]  \\\n",
    "                +b[i+1,j-1] + b[i+1,j] + b[i+1,j+1] \n",
    "            if b[i,j] == 1 and (n < 2 or n > 3):\n",
    "                s[i,j] = 0 \n",
    "            elif b[i,j] == 0 and n == 3:\n",
    "                s[i,j] = 1\n",
    "    b[:,:] = s # copy the updated values into b"
   ]
  },
  {
   "cell_type": "markdown",
   "metadata": {},
   "source": [
    "Now for the fast way.\n",
    "\n",
    "`neighbors` returns an array with a count of the number of neighbors that are alive.  This array programming style is used throughout this course. It is important to master this, and see how it is equivalent to `slowstep`. Note how 8 shifted arrays are sampled. Admittedly, a sketch of the relative domains of the 8 arrays could be helpful here. Maybe you can make such a sketch.  \n",
    "\n",
    "Note the returned array is 2 rows and 2 columns smaller than the input array `b`. The input array is assumed to have the adjacent rows and columns copied to its edges. "
   ]
  },
  {
   "cell_type": "code",
   "execution_count": 11,
   "metadata": {},
   "outputs": [],
   "source": [
    "# the typography should hint at how the shift in the slices\n",
    "# counts the neighboring cells that are \"alive\" (meaning == 1 )\n",
    "def neighbors(b):\n",
    "    return \\\n",
    "    b[:-2,:-2] +b[:-2,1:-1] +b[:-2,2:] + \\\n",
    "    b[1:-1,:-2]             +b[1:-1,2:]+ \\\n",
    "    b[2:,:-2]  +b[2:,1:-1]  +b[2:,2:]"
   ]
  },
  {
   "cell_type": "code",
   "execution_count": 12,
   "metadata": {
    "scrolled": false
   },
   "outputs": [
    {
     "name": "stdout",
     "output_type": "stream",
     "text": [
      "[[0 0 1 ... 1 0 0]\n",
      " [0 1 1 ... 0 0 1]\n",
      " [0 0 0 ... 0 0 0]\n",
      " ...\n",
      " [0 0 1 ... 0 0 0]\n",
      " [0 0 1 ... 1 0 0]\n",
      " [0 1 1 ... 0 0 1]]\n"
     ]
    }
   ],
   "source": [
    "print(c)"
   ]
  },
  {
   "cell_type": "code",
   "execution_count": 13,
   "metadata": {
    "scrolled": true
   },
   "outputs": [
    {
     "name": "stdout",
     "output_type": "stream",
     "text": [
      "[[2 3 5 ... 1 1 2]\n",
      " [4 5 5 ... 1 1 2]\n",
      " [3 2 3 ... 1 3 3]\n",
      " ...\n",
      " [2 2 3 ... 2 2 1]\n",
      " [2 1 3 ... 3 4 2]\n",
      " [4 4 6 ... 2 1 2]]\n"
     ]
    }
   ],
   "source": [
    "print(neighbors(c))"
   ]
  },
  {
   "cell_type": "code",
   "execution_count": 14,
   "metadata": {},
   "outputs": [],
   "source": [
    "# b has the perimeter cells, we only change the part not on the perimeter\n",
    "def faststep(b): \n",
    "    n = neighbors(b) # n will be the array containing the count of alive neighbors \n",
    "    b[1:-1,1:-1] = np.where(np.logical_or( n==3 , np.logical_and( b[1:-1,1:-1] , n==2 ) ), 1, 0)\n",
    "# see Appendix to help you wrap your head around this ^^^    "
   ]
  },
  {
   "cell_type": "markdown",
   "metadata": {},
   "source": [
    "You may want to highlight this cell, then **Cell>Run All Above**.\n",
    "Wait until all the cells above execute, then execute the cells below."
   ]
  },
  {
   "cell_type": "code",
   "execution_count": 15,
   "metadata": {
    "scrolled": false
   },
   "outputs": [
    {
     "data": {
      "image/png": "[encoded data removed]",
      "text/plain": [
       "<Figure size 600x600 with 1 Axes>"
      ]
     },
     "metadata": {},
     "output_type": "display_data"
    }
   ],
   "source": [
    "# You may execute this cell repeatedly, to do nsteps more\n",
    "nsteps = 40\n",
    "step_type = 1\n",
    "myfig,myaxis = plt.subplots(figsize=(6,6))\n",
    "myaxis.axis('off')\n",
    "count=0\n",
    "while count < nsteps:\n",
    "    if step_type == 1:\n",
    "        faststep(c)\n",
    "    elif step_type == 0:\n",
    "        slowstep(c)\n",
    "    else:\n",
    "        print(\"not implemented yet\")\n",
    "    if enforce_periodic: periodic(c)\n",
    "    \n",
    "    myaxis.clear()\n",
    "    myaxis.imshow( c[1:-1,1:-1], interpolation=\"nearest\") \n",
    "    myaxis.text( .0, -0.6, '{0:d}'.format(count), fontsize=22)\n",
    "    myaxis.axis(\"off\")\n",
    "    \n",
    "#    Time.sleep(0.1) # show pix for 0.1 seconds\n",
    "    clear_output(wait=True) # wait means do not really clear it until next display\n",
    "    Time.sleep(0.4)\n",
    "    display(myfig) \n",
    "    count+=1\n",
    "plt.close()   "
   ]
  },
  {
   "cell_type": "markdown",
   "metadata": {},
   "source": [
    "<hr>\n",
    "\n",
    "# Student Tasks: \n",
    "\n",
    "Add two more options for `init_choice`\n",
    "\n",
    "## 1.  initialize a standard option\n",
    "\n",
    "Look again at [The online Game of Life](http://www.bitstorm.org/gameoflife/).  Note the initialization options such as *Tumbler* and *10 Cell Row*.  Try to initialize one of those options in this notebook.\n",
    "\n",
    "## 2.  Initialize your name\n",
    "\n",
    "At t=13s in [Does John Conway hate his Game of Life?](https://youtu.be/E8kUJL04ELA), we see the *Game of Life* initialized with a name. Do such an initialization for your name, or at least your two or three initials.\n"
   ]
  },
  {
   "cell_type": "markdown",
   "metadata": {
    "collapsed": true
   },
   "source": [
    "# Appendix"
   ]
  },
  {
   "cell_type": "markdown",
   "metadata": {},
   "source": [
    "Need a reference?\n",
    "\n",
    "A 24-page pdf document, emphasizing array slicing and indexing: http://www.engr.ucsb.edu/~shell/che210d/numpy.pdf"
   ]
  },
  {
   "cell_type": "markdown",
   "metadata": {},
   "source": [
    "### a quick demo of some array syntax used in this notebook\n",
    "(other than slicing or indexing)"
   ]
  },
  {
   "cell_type": "code",
   "execution_count": 16,
   "metadata": {},
   "outputs": [],
   "source": [
    "z = np.array([1,0,0])"
   ]
  },
  {
   "cell_type": "code",
   "execution_count": 17,
   "metadata": {},
   "outputs": [],
   "source": [
    "w = np.array([1,1,0])"
   ]
  },
  {
   "cell_type": "code",
   "execution_count": 18,
   "metadata": {},
   "outputs": [
    {
     "data": {
      "text/plain": [
       "array([ True, False, False])"
      ]
     },
     "execution_count": 18,
     "metadata": {},
     "output_type": "execute_result"
    }
   ],
   "source": [
    "z == 1"
   ]
  },
  {
   "cell_type": "code",
   "execution_count": 19,
   "metadata": {},
   "outputs": [
    {
     "data": {
      "text/plain": [
       "array([ True, False, False])"
      ]
     },
     "execution_count": 19,
     "metadata": {},
     "output_type": "execute_result"
    }
   ],
   "source": [
    "z == True # 0 is interpreted as False"
   ]
  },
  {
   "cell_type": "code",
   "execution_count": 20,
   "metadata": {},
   "outputs": [
    {
     "data": {
      "text/plain": [
       "array([ True, False, False])"
      ]
     },
     "execution_count": 20,
     "metadata": {},
     "output_type": "execute_result"
    }
   ],
   "source": [
    "np.logical_and(z,w)"
   ]
  },
  {
   "cell_type": "code",
   "execution_count": 21,
   "metadata": {},
   "outputs": [
    {
     "data": {
      "text/plain": [
       "array([ True,  True, False])"
      ]
     },
     "execution_count": 21,
     "metadata": {},
     "output_type": "execute_result"
    }
   ],
   "source": [
    "np.logical_or(z,w)"
   ]
  },
  {
   "cell_type": "code",
   "execution_count": 22,
   "metadata": {},
   "outputs": [
    {
     "data": {
      "text/plain": [
       "array([-9, -9,  7])"
      ]
     },
     "execution_count": 22,
     "metadata": {},
     "output_type": "execute_result"
    }
   ],
   "source": [
    "np.where( np.logical_or(z,w) , -9, 7 )"
   ]
  },
  {
   "cell_type": "code",
   "execution_count": null,
   "metadata": {},
   "outputs": [],
   "source": []
  }
 ],
 "metadata": {
  "anaconda-cloud": {
   "environment": null
  },
  "kernelspec": {
   "display_name": "Python 3 (ipykernel)",
   "language": "python",
   "name": "python3"
  },
  "language_info": {
   "codemirror_mode": {
    "name": "ipython",
    "version": 3
   },
   "file_extension": ".py",
   "mimetype": "text/x-python",
   "name": "python",
   "nbconvert_exporter": "python",
   "pygments_lexer": "ipython3",
   "version": "3.9.17"
  }
 },
 "nbformat": 4,
 "nbformat_minor": 1
}
