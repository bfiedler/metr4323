{
 "cells": [
  {
   "cell_type": "code",
   "execution_count": 1,
   "metadata": {
    "scrolled": true
   },
   "outputs": [],
   "source": [
    "from sympy import symbols,solve\n",
    "import numpy as np\n",
    "import matplotlib.pyplot as plt\n",
    "%matplotlib inline\n",
    "from IPython.display import HTML\n",
    "import urllib.request"
   ]
  },
  {
   "cell_type": "code",
   "execution_count": 2,
   "metadata": {},
   "outputs": [
    {
     "data": {
      "text/html": [
       "<style>\n",
       "div.text_cell_render{\n",
       "    background-color: #efe;\n",
       "    }\n",
       ".rendered_html code {\n",
       "    background-color: #efe;\n",
       "    color: #900;\n",
       "}\n",
       ".rendered_html pre {\n",
       "    background-color: #efe;\n",
       "    color: #900;\n",
       "}\n",
       ".rendered_html hr {\n",
       "height:6px;\n",
       "border:none;\n",
       "background-color: #f00;\n",
       "} \n",
       ".rendered_html h2 {margin-left: 1em; color: purple;  text-align:left; padding-top: 0.5em; }\n",
       ".rendered_html h3 {margin-left: 2em; color: olive;  text-align:left; padding-top: 0.5em; }\n",
       ".rendered_html h4 {margin-left: 3em; color: teal;  text-align:left; padding-top: 0.5em; }\n",
       "</style>\n"
      ],
      "text/plain": [
       "<IPython.core.display.HTML object>"
      ]
     },
     "execution_count": 2,
     "metadata": {},
     "output_type": "execute_result"
    }
   ],
   "source": [
    "HTML(urllib.request.urlopen('http://metrprof.xyz/metr4323.css').read().decode())\n",
    "#HTML( open('metr4323.css').read() ) #or use this, if you have downloaded metr4233.css to your computer"
   ]
  },
  {
   "cell_type": "markdown",
   "metadata": {},
   "source": [
    "# Symbolic Math with Python\n",
    "v1.311, 26 February 2018, by Brian Fiedler\n",
    "\n",
    "tweeked September 2023\n",
    "$\\newcommand{\\V}[1]{\\vec{\\boldsymbol{#1}}}$\n",
    "$\\newcommand{\\I}[1]{\\widehat{\\boldsymbol{\\mathrm{#1}}}}$\n",
    "$\\newcommand{\\pd}[2]{\\frac{\\partial#1}{\\partial#2}}$\n",
    "$\\newcommand{\\pdt}[1]{\\frac{\\partial#1}{\\partial t}}$\n",
    "$\\newcommand{\\ddt}[1]{\\frac{\\D#1}{\\D t}}$\n",
    "$\\newcommand{\\D}{\\mathrm{d}}$\n",
    "$\\newcommand{\\Ii}{\\I{\\imath}}$\n",
    "$\\newcommand{\\Ij}{\\I{\\jmath}}$\n",
    "$\\newcommand{\\Ik}{\\I{k}}$\n",
    "$\\newcommand{\\del}{\\boldsymbol{\\nabla}}$\n",
    "$\\newcommand{\\dt}{\\cdot}$\n",
    "$\\newcommand{\\x}{\\times}$\n",
    "$\\newcommand{\\dv}{\\del\\cdot}$\n",
    "$\\newcommand{\\curl}{\\del\\times}$\n",
    "$\\newcommand{\\lapl}{\\nabla^2}$\n",
    "\n",
    "Demonstrates using `sympy`  to solve for the mysterious coefficients we see in the Adams-Bashforth schemes and the advection schemes.  The official [sympy docs](https://docs.sympy.org/latest/index.html) may be helpful."
   ]
  },
  {
   "cell_type": "markdown",
   "metadata": {},
   "source": [
    "## Simple examples of solving linear equations"
   ]
  },
  {
   "cell_type": "markdown",
   "metadata": {},
   "source": [
    "`symbols`: The names on the left will be the Python names of a variable, the symbols on the right will be what is printed. Often it is a good idea to keep them the same. "
   ]
  },
  {
   "cell_type": "code",
   "execution_count": 3,
   "metadata": {},
   "outputs": [
    {
     "name": "stdout",
     "output_type": "stream",
     "text": [
      "any suprises here?\n",
      "<class 'int'> 7\n",
      "<class 'sympy.core.symbol.Symbol'> f'_0\n",
      "<class 'sympy.core.symbol.Symbol'> q\n"
     ]
    },
    {
     "data": {
      "text/latex": [
       "$\\displaystyle f'_{0} - q$"
      ],
      "text/plain": [
       "f'_0 - q"
      ]
     },
     "execution_count": 3,
     "metadata": {},
     "output_type": "execute_result"
    }
   ],
   "source": [
    "z = 7 # traditional python variable assignment\n",
    "q = symbols(\"q\")\n",
    "p = symbols(\"f'_0\") \n",
    "\n",
    "print(\"any suprises here?\")\n",
    "print(type(z),z)\n",
    "print(type(p),p)\n",
    "print(type(q),q)\n",
    "p-q # this is pretty!"
   ]
  },
  {
   "cell_type": "code",
   "execution_count": 4,
   "metadata": {},
   "outputs": [
    {
     "data": {
      "text/plain": [
       "[2]"
      ]
     },
     "execution_count": 4,
     "metadata": {},
     "output_type": "execute_result"
    }
   ],
   "source": [
    "# The \"= 0\" is assumed in the equation that we solve:\n",
    "solve(p/2 -1)"
   ]
  },
  {
   "cell_type": "code",
   "execution_count": 5,
   "metadata": {},
   "outputs": [
    {
     "data": {
      "text/plain": [
       "[{f'_0: 2}]"
      ]
     },
     "execution_count": 5,
     "metadata": {},
     "output_type": "execute_result"
    }
   ],
   "source": [
    "# There was only one variable, so we didn't see the name. Show name of what we solved for:\n",
    "solve(p/2 -1, dict=True)"
   ]
  },
  {
   "cell_type": "code",
   "execution_count": 6,
   "metadata": {},
   "outputs": [
    {
     "data": {
      "text/plain": [
       "{f'_0: 6, q: 3}"
      ]
     },
     "execution_count": 6,
     "metadata": {},
     "output_type": "execute_result"
    }
   ],
   "source": [
    "# mysterious? Explained in next section...\n",
    "solve([ p/2-q , q-3 ])"
   ]
  },
  {
   "cell_type": "markdown",
   "metadata": {},
   "source": [
    "### Two independent equations, two unknowns"
   ]
  },
  {
   "cell_type": "code",
   "execution_count": 7,
   "metadata": {},
   "outputs": [],
   "source": [
    "# Often you can make the python variable name the same as the printed name.\n",
    "x,y = symbols('x,y')"
   ]
  },
  {
   "cell_type": "markdown",
   "metadata": {},
   "source": [
    "Let's solve these for $x$ and $y$:\n",
    "$$x-y+1=0$$\n",
    "$$x+4y-5=0$$\n",
    "In `solve`, the equations that we are solving don't need the \"= 0\".  That is assumed.\n",
    "Because we are solving for two unknowns, we get the answer as a python dictionary. `dict=True` is the default."
   ]
  },
  {
   "cell_type": "code",
   "execution_count": 8,
   "metadata": {},
   "outputs": [
    {
     "data": {
      "text/plain": [
       "{x: 1/5, y: 6/5}"
      ]
     },
     "execution_count": 8,
     "metadata": {},
     "output_type": "execute_result"
    }
   ],
   "source": [
    "solve( [ x-y+1, x+4*y-5] , [x,y] )"
   ]
  },
  {
   "cell_type": "markdown",
   "metadata": {},
   "source": [
    "### Three dependent equations"
   ]
  },
  {
   "cell_type": "markdown",
   "metadata": {},
   "source": [
    "A system of linear equations may have an infinite number of solutions if the equations are not independent."
   ]
  },
  {
   "cell_type": "code",
   "execution_count": 9,
   "metadata": {},
   "outputs": [],
   "source": [
    "x,y,z = symbols('x,y,z')"
   ]
  },
  {
   "cell_type": "code",
   "execution_count": 10,
   "metadata": {},
   "outputs": [
    {
     "data": {
      "text/plain": [
       "{x: z - 2, y: 3 - 2*z}"
      ]
     },
     "execution_count": 10,
     "metadata": {},
     "output_type": "execute_result"
    }
   ],
   "source": [
    "solve( [ x + 2*y + 3*z - 4, 5*x + 6*y +7*z -8 , 9*x + 10*y + 11*z - 12 ], [x,y,z] )"
   ]
  },
  {
   "cell_type": "markdown",
   "metadata": {},
   "source": [
    "### Inconsistent equations"
   ]
  },
  {
   "cell_type": "markdown",
   "metadata": {},
   "source": [
    "A system of linear equations may have no solution. For example, equations for two lines that do not intersect."
   ]
  },
  {
   "cell_type": "code",
   "execution_count": 11,
   "metadata": {},
   "outputs": [],
   "source": [
    "x,y = symbols('x,y')"
   ]
  },
  {
   "cell_type": "code",
   "execution_count": 12,
   "metadata": {},
   "outputs": [
    {
     "data": {
      "text/plain": [
       "[]"
      ]
     },
     "execution_count": 12,
     "metadata": {},
     "output_type": "execute_result"
    }
   ],
   "source": [
    "solve( [ x-y+1, x-y+2] , [x,y] )"
   ]
  },
  {
   "cell_type": "markdown",
   "metadata": {},
   "source": [
    "##  Deriving third-order upwind advection"
   ]
  },
  {
   "cell_type": "markdown",
   "metadata": {},
   "source": [
    "In `AdvectionPDE1d.ipynb`,  we found that the derivative $\\pd{f}{x}$ used in an equation like:\n",
    "$$\n",
    "\\pdt{f} = -u\\pd{f}{x}\n",
    "$$\n",
    "could be estimated in a variety of ways.  Those we mentioned were \"second-order centered\", \"first-order upwind\" and\n",
    "\"third-order upwind\". \n",
    "\n",
    "Here we will derive the \"third-order upwind\" scheme for $\\pd{f}{x}$. As for the claim of being \"third-order\"  we will note that the derivative is estimated from a third-order polynomial, fit to 4 discrete points of $f$. It is \"upwind\" because two points upwind of $\\pd{f}{x}$ are used, and one point downwind.\n",
    "\n",
    "We attempt to fit:\n",
    "$$ f(x) = f(0) + a \\frac{x}{\\delta} +b \\frac{x^2}{\\delta^2} \n",
    "+c \\frac{x^3}{\\delta^3} $$\n",
    "\n",
    "If we can find $a$, $b$ and $c$ that fit the three neighboring points, then\n",
    "$f'(0) = a/\\delta$ may be suitable for the derivative we need in an advection scheme. \n",
    "\n",
    "$$f(\\delta) = f(0) +a +b + c $$\n",
    "\n",
    "$$f(-\\delta) = f(0) - a + b - c $$\n",
    "\n",
    "$$f(-2\\delta) = f(0) - 2a + 4b - 8c $$"
   ]
  },
  {
   "cell_type": "code",
   "execution_count": 13,
   "metadata": {},
   "outputs": [],
   "source": [
    "f0,fp1,fm1,fm2,a,b,c = symbols('f0,fp1,fm1,fm2,a,b,c')\n",
    "# fm1 is \"f at minus 1 delta\", fp1 is \"f at plus 1 delta\", and so on"
   ]
  },
  {
   "cell_type": "code",
   "execution_count": 14,
   "metadata": {},
   "outputs": [
    {
     "data": {
      "text/plain": [
       "{a: f0/2 - fm1 + fm2/6 + fp1/3,\n",
       " b: -f0 + fm1/2 + fp1/2,\n",
       " c: -f0/2 + fm1/2 - fm2/6 + fp1/6}"
      ]
     },
     "execution_count": 14,
     "metadata": {},
     "output_type": "execute_result"
    }
   ],
   "source": [
    "# the variable names np1, nm1, nm2 are the names of \"expression objects\":\n",
    "np1 = f0 + a + b + c - fp1 \n",
    "nm1 = f0 -a + b - c - fm1\n",
    "nm2 = f0 -2*a + 4*b - 8*c -fm2\n",
    "soln = solve([np1,nm1,nm2],[a,b,c]) # \"expression objects\" are set equal to zero to be \"equations\"\n",
    "soln"
   ]
  },
  {
   "cell_type": "markdown",
   "metadata": {},
   "source": [
    "So seeing the solution for $a$ above:\n",
    "$$ f'(0) = \\frac{a}{\\delta} = \\frac{1}{6\\delta} \\left[ f(-2\\delta) -6f(-\\delta) + 3 f(0) + 2 f(\\delta) \\right] $$\n",
    "\n",
    "You should now be able to see where this python code for third-order upwind advection comes from:\n",
    "\n",
    "`dbdx[2:-2] = (b[:-4]  - 6*b[1:-3] + 3*b[2:-2] + 2*b[3:-1])/(6*dx)`"
   ]
  },
  {
   "cell_type": "markdown",
   "metadata": {},
   "source": [
    "\n",
    "#### Example of the \"fit\" provided by the polynomial"
   ]
  },
  {
   "cell_type": "markdown",
   "metadata": {},
   "source": [
    "What is the fitted polynomial doing for us? Let's do an example with specific values of $f$ at the four points: an upside-down V or \"spike\". "
   ]
  },
  {
   "cell_type": "code",
   "execution_count": 15,
   "metadata": {},
   "outputs": [],
   "source": [
    "from collections import OrderedDict # if you want OrderedDict instead of dict"
   ]
  },
  {
   "cell_type": "code",
   "execution_count": 16,
   "metadata": {},
   "outputs": [
    {
     "name": "stdout",
     "output_type": "stream",
     "text": [
      "OrderedDict([(fm2, 0), (fm1, 1), (f0, 2), (fp1, 1)])\n"
     ]
    }
   ],
   "source": [
    "fs = [fm2, fm1, f0, fp1] # list of our symbols\n",
    "vals = [0,1,2,1] # the values of f showing the spike\n",
    "spike = OrderedDict(zip(fs,vals))# associate symbols with specific values\n",
    "#spike= dict(zip(fs,vals)) # this works too\n",
    "print(spike)"
   ]
  },
  {
   "cell_type": "code",
   "execution_count": 17,
   "metadata": {
    "scrolled": true
   },
   "outputs": [
    {
     "name": "stdout",
     "output_type": "stream",
     "text": [
      "{a: 1/3, b: -1, c: -1/3}\n"
     ]
    }
   ],
   "source": [
    "# Now substitute in those specific values of fm2,fm1,f0,fp1 to\n",
    "# get numbers for a,b,c\n",
    "coefs={} # initialize empty dict\n",
    "for key in soln:\n",
    "    coefs[key] = soln[key].subs(spike) # subs means subsitute\n",
    "print(coefs)"
   ]
  },
  {
   "cell_type": "markdown",
   "metadata": {},
   "source": [
    "In this example $\\delta=1$. For the spike, we find $a=\\frac{1}{3}$.  So \"third-order upwind\" estimate is $f'(0)=\\frac{1}{3}$ \n",
    "\n",
    "Let's use those coefficients, specific to this \"spike\" example, to plot the fitted function, and maybe see where this estimate comes from."
   ]
  },
  {
   "cell_type": "code",
   "execution_count": 18,
   "metadata": {},
   "outputs": [
    {
     "data": {
      "text/plain": [
       "array([-2. , -1.9, -1.8, -1.7, -1.6, -1.5, -1.4, -1.3, -1.2, -1.1, -1. ,\n",
       "       -0.9, -0.8, -0.7, -0.6, -0.5, -0.4, -0.3, -0.2, -0.1,  0. ,  0.1,\n",
       "        0.2,  0.3,  0.4,  0.5,  0.6,  0.7,  0.8,  0.9,  1. ])"
      ]
     },
     "execution_count": 18,
     "metadata": {},
     "output_type": "execute_result"
    }
   ],
   "source": [
    "xa = np.linspace(-2,1,31) # this is the range of x/delta for the plot\n",
    "xa"
   ]
  },
  {
   "cell_type": "code",
   "execution_count": 19,
   "metadata": {
    "scrolled": false
   },
   "outputs": [
    {
     "data": {
      "text/plain": [
       "array([0, 0.0429999999999997, 0.104000000000000, 0.181000000000000,\n",
       "       0.272000000000000, 0.375000000000000, 0.488000000000000,\n",
       "       0.609000000000000, 0.736000000000000, 0.867000000000000,\n",
       "       1.00000000000000, 1.13300000000000, 1.26400000000000,\n",
       "       1.39100000000000, 1.51200000000000, 1.62500000000000,\n",
       "       1.72800000000000, 1.81900000000000, 1.89600000000000,\n",
       "       1.95700000000000, 2, 2.02300000000000, 2.02400000000000,\n",
       "       2.00100000000000, 1.95200000000000, 1.87500000000000,\n",
       "       1.76800000000000, 1.62900000000000, 1.45600000000000,\n",
       "       1.24700000000000, 1.00000000000000], dtype=object)"
      ]
     },
     "execution_count": 19,
     "metadata": {},
     "output_type": "execute_result"
    }
   ],
   "source": [
    "# this is the fitted f(x)\n",
    "f = spike[f0] + coefs[a]*xa + coefs[b]*xa**2 + coefs[c]*xa**3 \n",
    "f"
   ]
  },
  {
   "cell_type": "code",
   "execution_count": 20,
   "metadata": {
    "scrolled": false
   },
   "outputs": [
    {
     "data": {
      "image/png": "[encoded data removed]",
      "text/plain": [
       "<Figure size 640x480 with 1 Axes>"
      ]
     },
     "metadata": {},
     "output_type": "display_data"
    }
   ],
   "source": [
    "plt.plot(xa,f,'g-')\n",
    "plt.plot([-2,-1,0,1],vals,'ro');"
   ]
  },
  {
   "cell_type": "markdown",
   "metadata": {},
   "source": [
    "Well, so what?  \n",
    "You should be able to see by inspection of the above spike that a \"second-order centered\" scheme would produce $f'(0)=0$,\n",
    "and the \"first-order upwind\" scheme produces $f'(0)=1$.  We haven't shown that the above third-order \"fit\" of $f'(0)=\\frac{1}{3}$ is necesarily \"better\" than other alternatives when used in an advection scheme. In METR 4323, the proof about being \"better\" is shown by experiments.\n"
   ]
  },
  {
   "cell_type": "markdown",
   "metadata": {
    "collapsed": true
   },
   "source": [
    "<hr/>\n",
    "\n",
    "## Adams-Bashforth time step"
   ]
  },
  {
   "cell_type": "markdown",
   "metadata": {},
   "source": [
    "The universal forecast scheme is (trivially):\n",
    "$$f(t+\\delta) = f(t) + \\int_t^{t+\\delta} f'(s) ds = f(t) + \\delta \\frac{1}{\\delta}\\int_t^{t+\\delta} f'(s) ds $$\n",
    "On this side of the pond, the $s$ is called a *dummy variable* for $t$.\n",
    "Needless to say, knowing $f'(t)$ in the future is problematic, because we don't know the\n",
    "future.  The simplest scheme is to assume $f'(s)$ will be $f'(t)$. That is the Euler scheme.\n",
    "\n",
    "It may be helpful to denote the average value of $f'(t)$ over the next time step as:\n",
    "$$ \\overline{f'(t)} = \\frac{1}{\\delta}\\int_t^{t+\\delta} f'(s) ds $$\n",
    "\n",
    "So our universal forecast scheme is also denoted:\n",
    "\n",
    "$$f(t+\\delta) = f(t) + \\delta \\overline{f'(t)} $$\n",
    "\n",
    "\n",
    "Let's make a better estimate of $f'(t)$ in the near future. Let's call the current time $t=0$.\n",
    "We seek $a$ and $b$ in\n",
    "$$ f'(t)=f'(0)+a\\frac{t}{\\delta}+ b\\frac{t^2}{\\delta^2}$$\n",
    "where $a$ and $b$ are determined by the requirement for $f'(t)$ to also fit the\n",
    "values of $f'(t)$ in the previous time steps:\n",
    "$$ f'(-\\delta) = f'(0) - a + b$$\n",
    "$$ f'(-2\\delta) = f'(0) - 2a + 4b$$\n",
    "\n",
    "The average value of $f'(t)$ between $t=0$ and $t=\\delta$ is thus anticpated to be:\n",
    "$$\\overline{f'(t)} =\n",
    "\\frac{1}{\\delta}\\int_0^\\delta \n",
    "\\left( f'(0)+ a\\frac{s}{\\delta}+ b \\frac{s^2}{\\delta^2} \\right)ds\n",
    " =\\frac{1}{\\delta} \n",
    " \\left[ f'(0)s +\n",
    " \\frac{1}{2} a\\frac{s^2}{\\delta} \n",
    " + \\frac{1}{3} b \\frac{s^3}{\\delta^2}\\right]_0^\\delta\n",
    " =f'(0)+ \\frac{1}{2} a + \\frac{1}{3} b$$\n",
    "\n",
    "We next use `sympy` to find $a$ and $b$ in terms of $f'(0)$,  $f'(-\\delta)$ and  $f'(-2\\delta)$."
   ]
  },
  {
   "cell_type": "code",
   "execution_count": 21,
   "metadata": {},
   "outputs": [],
   "source": [
    "fp0,fpm1,fpm2,a,b = symbols(\"f'(0),f'(-1),f'(-2),a,b\") # alternative way to print symbols\n",
    "#fp0,fpm1,fpm2,a,b = symbols(\"fp0,fpm1,fpm2,a,b\")"
   ]
  },
  {
   "cell_type": "code",
   "execution_count": 22,
   "metadata": {
    "scrolled": true
   },
   "outputs": [
    {
     "data": {
      "text/plain": [
       "{a: -2*f'(-1) + f'(-2)/2 + 3*f'(0)/2, b: -f'(-1) + f'(-2)/2 + f'(0)/2}"
      ]
     },
     "execution_count": 22,
     "metadata": {},
     "output_type": "execute_result"
    }
   ],
   "source": [
    "nm1 = fp0 -a + b - fpm1  # name nm1 is arbitrary\n",
    "nm2 = fp0 -2*a + 4*b - fpm2\n",
    "ab =solve([nm1,nm2],(a,b))  # the solution\n",
    "ab"
   ]
  },
  {
   "cell_type": "markdown",
   "metadata": {},
   "source": [
    "So here is $\\overline{f'(t)}$ in terms of $f'(0)$, $f'(-\\delta)$ and $f'(-2\\delta)$:"
   ]
  },
  {
   "cell_type": "code",
   "execution_count": 23,
   "metadata": {},
   "outputs": [
    {
     "data": {
      "text/latex": [
       "$\\displaystyle - \\frac{4 f'(-1)}{3} + \\frac{5 f'(-2)}{12} + \\frac{23 f'(0)}{12}$"
      ],
      "text/plain": [
       "-4*f'(-1)/3 + 5*f'(-2)/12 + 23*f'(0)/12"
      ]
     },
     "execution_count": 23,
     "metadata": {},
     "output_type": "execute_result"
    }
   ],
   "source": [
    "# this prints ugly symbols, unless using symbols(\"f'(0),f'(-1),f'(-2),a,b\")\n",
    "fp0+ab[a]/2+ab[b]/3"
   ]
  },
  {
   "cell_type": "markdown",
   "metadata": {},
   "source": [
    "You should see the similarity with our Python code for 3rd-order Adams-Bashforth:\n",
    "\n",
    "`(23*dqdt[0]-16*dqdt[1]+5*dqdt[2])/12.`"
   ]
  },
  {
   "cell_type": "markdown",
   "metadata": {},
   "source": [
    "<hr>\n",
    "\n",
    "# Fifth-order upwind advection"
   ]
  },
  {
   "cell_type": "markdown",
   "metadata": {},
   "source": [
    "$$ f(x) = f(0) + a X + b X^2 + c X^3 + d X^4 + e X^5 $$\n",
    "where $X \\equiv x/\\delta$. \n",
    "\n",
    "We have values $f(-3\\delta)$, $f(-2\\delta)$, $f(-\\delta)$,\n",
    "$f(\\delta)$ and $f(2\\delta)$ to fit by finding the appropriate values for $a$, $b$, $c$, $d$ and $e$.\n",
    "\n",
    "| $\\LaTeX\\qquad$ |`python` |\n",
    "| --- | --- |\n",
    "| $f(-3\\delta)$ | f0 |\n",
    "| $f(-2\\delta)$ | f1 |\n",
    "| $f(-1\\delta)$ | f2 |\n",
    "| $f(0)$ | f3 |\n",
    "| $f(\\delta)$ | f4 |\n",
    "| $f(2\\delta)$ | f5 |"
   ]
  },
  {
   "cell_type": "code",
   "execution_count": 24,
   "metadata": {},
   "outputs": [],
   "source": [
    "f0,f1,f2,f3,f4,f5,a,b,c,d,e = symbols('f0,f1,f2,f3,f4,f5,a,b,c,d,e')"
   ]
  },
  {
   "cell_type": "code",
   "execution_count": 25,
   "metadata": {
    "scrolled": true
   },
   "outputs": [
    {
     "data": {
      "text/plain": [
       "{a: -f0/30 + f1/4 - f2 + f3/3 + f4/2 - f5/20,\n",
       " b: -f1/24 + 2*f2/3 - 5*f3/4 + 2*f4/3 - f5/24,\n",
       " c: f0/24 - 7*f1/24 + 7*f2/12 - 5*f3/12 + f4/24 + f5/24,\n",
       " d: f1/24 - f2/6 + f3/4 - f4/6 + f5/24,\n",
       " e: -f0/120 + f1/24 - f2/12 + f3/12 - f4/24 + f5/120}"
      ]
     },
     "execution_count": 25,
     "metadata": {},
     "output_type": "execute_result"
    }
   ],
   "source": [
    "np2 = f3 + 2*a + 4*b + 8*c + 16*d + 32*e -f5\n",
    "np1 = f3 + a + b + c + d + e - f4\n",
    "nm1 = f3 -a + b - c + d - e - f2\n",
    "nm2 = f3 -2*a + 4*b - 8*c + 16*d - 32*e - f1\n",
    "nm3 = f3 -3*a + 9*b - 27*c + 81*d - 243*e - f0\n",
    "solve([np2,np1,nm1,nm2,nm3],(a,b,c,d,e))"
   ]
  },
  {
   "cell_type": "markdown",
   "metadata": {},
   "source": [
    "$\\frac{\\partial b}{\\partial x} = \\frac{a}{\\delta}$ can be used in an advection scheme. This is what python code might look like for $\\frac{\\partial b}{\\partial x}$ in the 5th order upwind scheme:\n",
    "\n",
    "\n",
    "`dbdx[3:-2] = (-2*b[:-5]  + 15*b[1:-4] - 60*b[2:-3] + 20*b[3:-2] + 30*b[4:-1] -3*b[5:0])/(60*dx)`\n",
    "\n",
    "Note there are 3 points to the left, and 2 points to the right, of the point where we want the derivative to apply. This should be appropriate for flow from the left."
   ]
  },
  {
   "cell_type": "markdown",
   "metadata": {},
   "source": [
    "<hr/>\n",
    "\n",
    "## Student Task 1: Fourth-order centered advection\n",
    "\n",
    "This should be easy.  Let's just truncate the above 5th order analysis to 4th order."
   ]
  },
  {
   "cell_type": "markdown",
   "metadata": {},
   "source": [
    "$$ f(x) = f(0) + a X + b X^2 + c X^3 + d X^4 $$\n",
    "where $X \\equiv x/\\delta$. \n",
    "\n",
    "We have values $f(-2\\delta)$, $f(-\\delta)$,\n",
    "$f(\\delta)$ and $f(2\\delta)$ to fit by finding the appropriate values for $a$, $b$, $c$ and $d$.\n",
    "\n",
    "| $\\LaTeX\\qquad$|`python` |\n",
    "| --- | --- |\n",
    "| $f(-2\\delta)$ | f1 |\n",
    "| $f(-1\\delta)$ | f2 |\n",
    "| $f(0)$ | f3 |\n",
    "| $f(\\delta)$ | f4 |\n",
    "| $f(2\\delta)$ | f5 |\n",
    "\n",
    "**STUDENTS:** finish the sympy stuff for the 4th order scheme:"
   ]
  },
  {
   "cell_type": "markdown",
   "metadata": {},
   "source": [
    "<hr/>\n",
    "\n",
    "# Student Task 2: Implement the 4th and 5th order advection schemes\n",
    "\n",
    "Make a copy of your `AdvectionPDE1d.ipynb` into something like `MoreAdvection.ipynb`. Modify the new notebook to include options for `advord=4` and `advord=5`.  Do some experiments to make pretty plots comparing the 1 thru 5 schemes.  I suggest you use N=101 points. "
   ]
  },
  {
   "cell_type": "code",
   "execution_count": null,
   "metadata": {},
   "outputs": [],
   "source": []
  }
 ],
 "metadata": {
  "anaconda-cloud": {
   "environment": null
  },
  "kernelspec": {
   "display_name": "Python 3 (ipykernel)",
   "language": "python",
   "name": "python3"
  },
  "language_info": {
   "codemirror_mode": {
    "name": "ipython",
    "version": 3
   },
   "file_extension": ".py",
   "mimetype": "text/x-python",
   "name": "python",
   "nbconvert_exporter": "python",
   "pygments_lexer": "ipython3",
   "version": "3.9.17"
  }
 },
 "nbformat": 4,
 "nbformat_minor": 1
}
